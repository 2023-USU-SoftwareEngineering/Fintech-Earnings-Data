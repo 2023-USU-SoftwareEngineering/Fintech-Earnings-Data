{
 "cells": [
  {
   "cell_type": "markdown",
   "id": "9e65f087",
   "metadata": {},
   "source": [
    "Imports"
   ]
  },
  {
   "cell_type": "code",
   "execution_count": 245,
   "id": "9c82f5ce",
   "metadata": {},
   "outputs": [
    {
     "ename": "ModuleNotFoundError",
     "evalue": "No module named 'sql_functions'",
     "output_type": "error",
     "traceback": [
      "\u001b[1;31m---------------------------------------------------------------------------\u001b[0m",
      "\u001b[1;31mModuleNotFoundError\u001b[0m                       Traceback (most recent call last)",
      "Input \u001b[1;32mIn [245]\u001b[0m, in \u001b[0;36m<cell line: 24>\u001b[1;34m()\u001b[0m\n\u001b[0;32m     22\u001b[0m \u001b[38;5;66;03m#Other\u001b[39;00m\n\u001b[0;32m     23\u001b[0m \u001b[38;5;28;01mfrom\u001b[39;00m \u001b[38;5;21;01mos\u001b[39;00m \u001b[38;5;28;01mimport\u001b[39;00m path, getcwd\n\u001b[1;32m---> 24\u001b[0m \u001b[38;5;28;01mimport\u001b[39;00m \u001b[38;5;21;01msql_functions\u001b[39;00m\n",
      "\u001b[1;31mModuleNotFoundError\u001b[0m: No module named 'sql_functions'"
     ]
    }
   ],
   "source": [
    "import pandas as pd\n",
    "import numpy as np\n",
    "\n",
    "\n",
    "from sklearn.model_selection import train_test_split\n",
    "\n",
    "#preprossors\n",
    "from sklearn.preprocessing import StandardScaler\n",
    "from sklearn.feature_extraction.text import CountVectorizer\n",
    "from sklearn.pipeline import Pipeline, make_pipeline\n",
    "from sklearn.compose import ColumnTransformer, make_column_transformer\n",
    "from sklearn.impute import SimpleImputer\n",
    "\n",
    "#models\n",
    "from sklearn.dummy import DummyClassifier\n",
    "from sklearn.linear_model import LinearRegression\n",
    "from sklearn.svm import SVR\n",
    "\n",
    "\n",
    "from sklearn.model_selection import RandomizedSearchCV\n",
    "\n",
    "#Other\n",
    "from os import path, getcwd\n",
    "import sql_functions"
   ]
  },
  {
   "cell_type": "markdown",
   "id": "35670b6d",
   "metadata": {},
   "source": [
    "Open file"
   ]
  },
  {
   "cell_type": "code",
   "execution_count": 219,
   "id": "61bf7f08",
   "metadata": {},
   "outputs": [],
   "source": [
    "# path is ../sql/db/__NAMEOFCSV__.csv\n",
    "pathToParent = path.dirname(getcwd())\n",
    "csvFile = pathToParent + \"/sqlite/db/Fintech.csv\"\n",
    "completeDF = pd.read_csv(csvFile, names=['name','date', 'daybefore', 'dayafter', 'monthafter', 'threemonthsafter', 'transcript' ])\n",
    "\n"
   ]
  },
  {
   "cell_type": "markdown",
   "id": "6e9b8833",
   "metadata": {},
   "source": [
    "Create Test and trianing sets"
   ]
  },
  {
   "cell_type": "code",
   "execution_count": 208,
   "id": "84e118c4",
   "metadata": {},
   "outputs": [
    {
     "name": "stdout",
     "output_type": "stream",
     "text": [
      "         name        date  daybefore  dayafter   monthafter  threemonthsafter  \\\n",
      "22      Apple  1525132800    162.130    175.23   184.973636        187.764844   \n",
      "96      Intel  1651104000     45.480     44.99    43.597182         40.736687   \n",
      "49  Microsoft  1580256000    163.780    174.05   179.093636        166.017656   \n",
      "37      Apple  1643241600    163.500    165.71   169.241136        167.397109   \n",
      "30      Apple  1588204800    284.730    286.25   308.689545        343.352086   \n",
      "..        ...         ...        ...       ...          ...               ...   \n",
      "84      Intel  1556150400     58.520     52.74    48.141364         47.541406   \n",
      "12     Google  1612224000   1844.585   2065.61  2062.099800       2127.138712   \n",
      "89      Intel  1595462400     61.310     52.15    49.715909         50.560133   \n",
      "69        AMD  1595894400     69.280     75.50    81.110686         81.644009   \n",
      "66        AMD  1572307200     33.160     32.93    37.167273         42.420000   \n",
      "\n",
      "                                           transcript  \n",
      "22  Good day everyone and welcome to the Apple Inc...  \n",
      "96  Good day ladies and gentlemen thank you for st...  \n",
      "49  Welcome to the Microsoft Fiscal Year 2020 Seco...  \n",
      "37  Good day and welcome to the Apple Q1 FY 2022 e...  \n",
      "30  Good day everyone. Welcome to the Apple Inc. S...  \n",
      "..                                                ...  \n",
      "84  Good day ladies and gentlemen and welcome to t...  \n",
      "12  Welcome everyone and thank you for standing by...  \n",
      "89  Ladies and gentlemen thank you for standing by...  \n",
      "69  Hello and welcome to the AMD second-quarter 20...  \n",
      "66  Greetings and welcome to the Advanced Micro De...  \n",
      "\n",
      "[80 rows x 7 columns]\n"
     ]
    }
   ],
   "source": [
    "trainDF, testDF = train_test_split(completeDF, test_size=.2, random_state=435)\n",
    "\n",
    "print(trainDF)\n",
    "trainDF = trainDF.dropna()\n",
    "testDF = testDF.dropna()\n",
    "\n",
    "trainX = trainDF.drop(columns=['name','dayafter', 'monthafter', 'threemonthsafter'])\n",
    "\n",
    "long_y_train = trainDF['threemonthsafter']\n",
    "medium_y_train = trainDF['monthafter']\n",
    "short_y_train = trainDF['dayafter']\n",
    "\n",
    "testX = testDF.drop(columns=['name','dayafter', 'monthafter', 'threemonthsafter'])\n",
    "\n",
    "long_y_test = testDF['threemonthsafter']\n",
    "medium_y_test = testDF['monthafter']\n",
    "short_y_test = testDF['dayafter']\n"
   ]
  },
  {
   "cell_type": "markdown",
   "id": "224b1db0",
   "metadata": {},
   "source": [
    "Create Dummy models"
   ]
  },
  {
   "cell_type": "code",
   "execution_count": 209,
   "id": "f8e334ee",
   "metadata": {},
   "outputs": [
    {
     "name": "stdout",
     "output_type": "stream",
     "text": [
      "[21.49 21.49 21.49 21.49 21.49 21.49 21.49 21.49 21.49 21.49 21.49 21.49\n",
      " 21.49 21.49 21.49 21.49 21.49 21.49 21.49 21.49 21.49 21.49 21.49 21.49\n",
      " 21.49 21.49 21.49 21.49 21.49 21.49 21.49 21.49 21.49 21.49 21.49 21.49\n",
      " 21.49 21.49 21.49 21.49 21.49 21.49 21.49 21.49 21.49 21.49 21.49 21.49\n",
      " 21.49 21.49 21.49 21.49 21.49 21.49 21.49 21.49 21.49 21.49 21.49 21.49\n",
      " 21.49 21.49 21.49 21.49 21.49 21.49 21.49 21.49 21.49 21.49 21.49 21.49\n",
      " 21.49 21.49 21.49 21.49 21.49 21.49 21.49 21.49]\n",
      "[23.41909091 23.41909091 23.41909091 23.41909091 23.41909091 23.41909091\n",
      " 23.41909091 23.41909091 23.41909091 23.41909091 23.41909091 23.41909091\n",
      " 23.41909091 23.41909091 23.41909091 23.41909091 23.41909091 23.41909091\n",
      " 23.41909091 23.41909091]\n",
      "[0. 0. 0. 0. 0. 0. 0. 0. 0. 0. 0. 0. 0. 0. 0. 0. 0. 0. 0. 0.]\n"
     ]
    }
   ],
   "source": [
    "shortDummy = DummyClassifier()\n",
    "mediumDummy = DummyClassifier()\n",
    "longDummy = DummyClassifier()\n",
    "\n",
    "shortDummy.fit(trainX, short_y_train)\n",
    "mediumDummy.fit(trainX, medium_y_train)\n",
    "longDummy.fit(trainX, long_y_train)\n",
    "\n",
    "print(shortDummy.predict(trainX))\n",
    "print(mediumDummy.predict(testX))\n",
    "print(longDummy.predict(testX))"
   ]
  },
  {
   "cell_type": "markdown",
   "id": "250fc343",
   "metadata": {},
   "source": [
    "Create preprocessing"
   ]
  },
  {
   "cell_type": "code",
   "execution_count": 210,
   "id": "6d772666",
   "metadata": {},
   "outputs": [],
   "source": [
    "trainX.transcript = trainX['transcript'].values.astype('U')\n",
    "testX.transcript = testX['transcript'].values.astype('U')\n"
   ]
  },
  {
   "cell_type": "code",
   "execution_count": 211,
   "id": "95fc4ceb",
   "metadata": {},
   "outputs": [],
   "source": [
    "preprocessor = ColumnTransformer([('transcript', CountVectorizer(stop_words=\"english\", strip_accents='ascii'),'transcript'),\n",
    "                                ('daybefore', 'passthrough', ['daybefore']),\n",
    "                                ('date', \"drop\", 'date')])\n",
    "countvec = CountVectorizer(stop_words='english', strip_accents='ascii')\n",
    "X_counts = countvec.fit_transform(trainX['transcript'])\n"
   ]
  },
  {
   "cell_type": "markdown",
   "id": "cfe0792f",
   "metadata": {},
   "source": [
    "Create pipelines"
   ]
  },
  {
   "cell_type": "code",
   "execution_count": 216,
   "id": "6779b383",
   "metadata": {},
   "outputs": [
    {
     "name": "stdout",
     "output_type": "stream",
     "text": [
      "375.0 379.8797295403162 411.535\n",
      "24.18 23.511833388127208 17.92\n",
      "261.66 257.6807095839688 256.078\n",
      "27.9 24.864648850165132 28.95\n",
      "1115.0 1146.4553957000803 1048.33\n",
      "74.23 97.03745413447157 78.47\n",
      "58.27 56.977568362298996 56.2\n",
      "55.25 30.691547037732438 50.39\n",
      "52.21 15.986681217243834 48.76\n",
      "51.86 41.77616837643939 55.44\n",
      "85.655 90.28306706575125 98.18\n",
      "213.85 205.56947055738672 207.67\n",
      "48.41 34.9270369417153 46.85\n",
      "34.14 17.03228641698895 32.08\n",
      "61.04 79.67131277340478 66.57\n",
      "55.18 36.47591641830203 54.58\n",
      "986.27 987.1126955771502 1030.99\n",
      "143.6 146.6633308641827 139.52\n",
      "150.96 136.72143827416141 148.2\n",
      "310.06 322.3008750906864 324.45\n"
     ]
    }
   ],
   "source": [
    "pipe = make_pipeline(\n",
    "    preprocessor, \n",
    "    LinearRegression())\n",
    "\n",
    "pipe.fit(trainX, short_y_train)\n",
    "\n",
    "predictions = pipe.predict(testX)\n",
    "\n",
    "for i in range(len(testX['daybefore'].array)):\n",
    "    print(testX['daybefore'].array[i], predictions[i], short_y_test.array[i])\n"
   ]
  },
  {
   "cell_type": "markdown",
   "id": "2e9ef17a",
   "metadata": {},
   "source": [
    "Creating a grid search to find best hyperperameters. "
   ]
  },
  {
   "cell_type": "code",
   "execution_count": 213,
   "id": "af669cae",
   "metadata": {},
   "outputs": [
    {
     "name": "stderr",
     "output_type": "stream",
     "text": [
      "C:\\Users\\svenw\\anaconda3\\lib\\site-packages\\sklearn\\model_selection\\_search.py:969: UserWarning: One or more of the test scores are non-finite: [nan nan nan nan nan nan nan nan nan nan]\n",
      "  warnings.warn(\n"
     ]
    }
   ],
   "source": [
    "param_dist = {\"columntransformer__transcript__max_features\" : range(100, 10000, 100)}\n",
    "\n",
    "random_search = RandomizedSearchCV(\n",
    "    pipe, param_dist, cv=4, n_jobs=-1, scoring= \"roc_auc\")\n",
    "\n",
    "shortModel = random_search.fit(trainX, short_y_train)\n",
    "\n"
   ]
  },
  {
   "cell_type": "code",
   "execution_count": 214,
   "id": "b01fe0fe",
   "metadata": {},
   "outputs": [
    {
     "name": "stdout",
     "output_type": "stream",
     "text": [
      "[ 378.31409238   24.17460525  255.4673893    24.28704901 1147.30346159\n",
      "   99.9969797    58.2289537    29.21548686   11.01782264   41.21354189\n",
      "   90.32932949  203.47275857   34.60336664   14.36689401   82.75975052\n",
      "   33.90365147  990.36247026  146.61637703  135.19300452  325.08944937]\n",
      "<PandasArray>\n",
      "[411.535,   17.92, 256.078,   28.95, 1048.33,   78.47,    56.2,   50.39,\n",
      "   48.76,   55.44,   98.18,  207.67,   46.85,   32.08,   66.57,   54.58,\n",
      " 1030.99,  139.52,   148.2,  324.45]\n",
      "Length: 20, dtype: float64\n"
     ]
    }
   ],
   "source": [
    "print(shortModel.predict(testX))\n",
    "\n",
    "print(short_y_test.array)\n"
   ]
  },
  {
   "cell_type": "code",
   "execution_count": 185,
   "id": "d11e3fe5",
   "metadata": {},
   "outputs": [
    {
     "name": "stderr",
     "output_type": "stream",
     "text": [
      "C:\\Users\\svenw\\anaconda3\\lib\\site-packages\\sklearn\\model_selection\\_search.py:969: UserWarning: One or more of the test scores are non-finite: [nan nan nan nan nan nan nan nan nan nan]\n",
      "  warnings.warn(\n"
     ]
    }
   ],
   "source": [
    "param_dist = {\"columntransformer__transcript__max_features\" : range(100, 10000, 100)}\n",
    "\n",
    "random_search = RandomizedSearchCV(\n",
    "    pipe, param_dist, cv=4, n_jobs=-1, scoring= \"roc_auc\")\n",
    "\n",
    "mediumModel = random_search.fit(trainX, medium_y_train)"
   ]
  },
  {
   "cell_type": "code",
   "execution_count": 186,
   "id": "477803b4",
   "metadata": {},
   "outputs": [
    {
     "name": "stdout",
     "output_type": "stream",
     "text": [
      "[ 375.19297894   28.35913142  253.35239003   28.04912042 1123.55999398\n",
      "   78.43807271   49.50894699   83.37174468   52.94486953   51.14149766\n",
      "   89.26252927  204.25215502   10.40373164   16.74173228   39.33463146\n",
      "   51.4947357   937.94276333  129.30052601  119.11955365  332.41722584]\n",
      "<PandasArray>\n",
      "[ 459.2465681818181, 19.712727272727275, 248.84054545454543,\n",
      "  27.25909090909091,  1062.898181818182,  81.01350000000001,\n",
      "  59.50045454545455,  50.26505909090909, 48.388181818181806,\n",
      "  53.78409090909091,  94.75977272727272,  212.8215909090909,\n",
      "  49.24727272727273, 31.009318181818177,  66.32863636363638,\n",
      "  53.64429090909091, 1040.4272727272726, 133.64136363636365,\n",
      " 147.00363636363633, 315.97636363636354]\n",
      "Length: 20, dtype: float64\n"
     ]
    }
   ],
   "source": [
    "print(mediumModel.predict(testX))\n",
    "\n",
    "print(medium_y_test.array)"
   ]
  },
  {
   "cell_type": "code",
   "execution_count": 187,
   "id": "6b6f2a5f",
   "metadata": {},
   "outputs": [
    {
     "name": "stderr",
     "output_type": "stream",
     "text": [
      "C:\\Users\\svenw\\anaconda3\\lib\\site-packages\\sklearn\\model_selection\\_search.py:969: UserWarning: One or more of the test scores are non-finite: [nan nan nan nan nan nan nan nan nan nan]\n",
      "  warnings.warn(\n"
     ]
    }
   ],
   "source": [
    "param_dist = {\"columntransformer__transcript__max_features\" : range(100, 10000, 100)}\n",
    "\n",
    "random_search = RandomizedSearchCV(\n",
    "    pipe, param_dist, cv=4, n_jobs=-1, scoring= \"roc_auc\")\n",
    "\n",
    "longModel = random_search.fit(trainX, long_y_train)"
   ]
  },
  {
   "cell_type": "code",
   "execution_count": 188,
   "id": "c5837825",
   "metadata": {},
   "outputs": [
    {
     "name": "stdout",
     "output_type": "stream",
     "text": [
      "[ 3.93578227e+02  3.50826568e+01  2.10247137e+02  3.40189073e+01\n",
      "  1.11030072e+03  3.38238376e+01  7.15488628e+01  7.61360282e+01\n",
      "  5.49323495e+01  6.77064688e+01  6.78397151e+01  1.89398504e+02\n",
      " -9.80465956e+00 -4.65767388e-01  3.17763208e+01  2.21138001e+01\n",
      "  9.27408520e+02  1.49883947e+02  9.07189061e+01  3.51454358e+02]\n",
      "<PandasArray>\n",
      "[234.55319531250004,  19.63421875000001,  260.1805859374999,\n",
      " 30.051484375000005,          1060.8325,                0.0,\n",
      "  60.16468749999998,  51.20227499999999,  47.19499999999999,\n",
      "  53.24281250000001,       89.126171875,  215.9439062500001,\n",
      "  52.80156250000002, 30.533984374999992,  58.67562500000001,\n",
      "       53.787384375, 1065.9328124999995,       128.47078125,\n",
      " 140.03862500000002,  282.3162499999999]\n",
      "Length: 20, dtype: float64\n"
     ]
    }
   ],
   "source": [
    "print(longModel.predict(testX))\n",
    "\n",
    "print(long_y_test.array)"
   ]
  },
  {
   "cell_type": "markdown",
   "id": "b8f3c3e0",
   "metadata": {},
   "source": [
    "Test different models"
   ]
  },
  {
   "cell_type": "code",
   "execution_count": 175,
   "id": "54fd2f43",
   "metadata": {},
   "outputs": [
    {
     "name": "stdout",
     "output_type": "stream",
     "text": [
      "[134.20115974 141.97467077 137.84293319 134.39529757 182.44430798\n",
      " 182.13104907 140.20352379 142.55686067 139.3722675  146.13975821\n",
      " 139.20891787 139.77374891 136.86688055 136.52717382 182.49779804\n",
      " 147.32367126 171.18364818 134.85348607 139.64776856 136.52717382\n",
      " 145.97943728 145.50468164 171.35512124 135.71528418 134.72032143\n",
      " 150.5870323  181.45081703 134.85255594 137.49347046 142.6577931\n",
      " 142.55686067 139.80094399 145.60991746 135.10172026 134.73133714\n",
      " 183.02300183 137.44599236 135.44558709 137.44599236 135.70949538]\n",
      "<PandasArray>\n",
      "[   54.19,   209.88,    103.8,    52.74,   1271.0,  1667.44,   165.71,\n",
      "   207.67,   148.03,   288.99,   139.39,    148.2,   129.89,   121.63,\n",
      "  1497.05,   324.45,   3025.0,    58.85,  147.215,   121.63,  307.985,\n",
      "    282.1, 2726.239,    78.73,    55.44,  411.535,  1048.33,  62.9999,\n",
      "   109.26,   209.55,   207.67,   161.84,   286.25,    78.47,     75.5,\n",
      "   1276.0,    96.43,    21.49,    96.43,    98.18]\n",
      "Length: 40, dtype: float64\n"
     ]
    }
   ],
   "source": [
    "pipe = make_pipeline(\n",
    "    preprocessor,\n",
    "    SVR())\n",
    "pipe.fit(trainX, short_y_train)\n",
    "print(pipe.predict(testX))\n",
    "print(short_y_test.array)"
   ]
  },
  {
   "cell_type": "markdown",
   "id": "8bbc9112",
   "metadata": {},
   "source": [
    "Create predictions"
   ]
  },
  {
   "cell_type": "markdown",
   "id": "2ad049a9",
   "metadata": {},
   "source": [
    "Add predictions to database"
   ]
  },
  {
   "cell_type": "code",
   "execution_count": 241,
   "id": "23249903",
   "metadata": {},
   "outputs": [],
   "source": [
    "completeDF.sort_values('date', ascending=False)\n",
    "companyCount = completeDF['name'].nunique()\n",
    "\n",
    "predictionDict = {}\n",
    "rowIndex = 1\n",
    "while len(predictionDict) < companyCount:\n",
    "    row = completeDF.iloc[rowIndex].to_frame().T\n",
    "    if row['name'].iloc[0] not in predictionDict:\n",
    "        predictions = [shortModel.predict(row)[0], mediumModel.predict(row)[0], longModel.predict(row)[0]]\n",
    "        predictionDict[row['name'].iloc[0]] = predictions\n",
    "    \n",
    "    rowIndex += 1\n",
    "\n"
   ]
  },
  {
   "cell_type": "code",
   "execution_count": 242,
   "id": "9c2a1130",
   "metadata": {},
   "outputs": [
    {
     "data": {
      "text/plain": [
       "{'Google': [1127.4200000000008, 1092.9122727272716, 1076.083941015856],\n",
       " 'Apple': [159.10000000000065, 168.30809523809535, 170.81992582841744],\n",
       " 'Microsoft': [64.35499999999772, 64.18886363636393, 65.01846684511169],\n",
       " 'AMD': [24.174605252008583, 28.35913141900148, 35.082656806257795],\n",
       " 'Intel': [41.213541894606244, 51.14149765944388, 67.70646881775117]}"
      ]
     },
     "execution_count": 242,
     "metadata": {},
     "output_type": "execute_result"
    }
   ],
   "source": [
    "predictionDict"
   ]
  },
  {
   "cell_type": "code",
   "execution_count": null,
   "id": "e99285bd",
   "metadata": {},
   "outputs": [],
   "source": []
  }
 ],
 "metadata": {
  "kernelspec": {
   "display_name": "Python 3 (ipykernel)",
   "language": "python",
   "name": "python3"
  },
  "language_info": {
   "codemirror_mode": {
    "name": "ipython",
    "version": 3
   },
   "file_extension": ".py",
   "mimetype": "text/x-python",
   "name": "python",
   "nbconvert_exporter": "python",
   "pygments_lexer": "ipython3",
   "version": "3.9.12"
  }
 },
 "nbformat": 4,
 "nbformat_minor": 5
}
