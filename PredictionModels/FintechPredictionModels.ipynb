{
 "cells": [
  {
   "cell_type": "markdown",
   "id": "9e65f087",
   "metadata": {},
   "source": [
    "Imports"
   ]
  },
  {
   "cell_type": "code",
   "execution_count": 56,
   "id": "9c82f5ce",
   "metadata": {},
   "outputs": [],
   "source": [
    "import pandas as pd\n",
    "import numpy as np\n",
    "from sklearn.dummy import DummyClassifier\n",
    "from sklearn.model_selection import train_test_split\n",
    "from os import path, getcwd\n",
    "from sklearn.preprocessing import StandardScaler\n",
    "from sklearn.feature_extraction.text import CountVectorizer\n",
    "from sklearn.linear_model import LinearRegression\n",
    "from sklearn.pipeline import Pipeline, make_pipeline\n",
    "from sklearn.compose import ColumnTransformer, make_column_transformer\n"
   ]
  },
  {
   "cell_type": "markdown",
   "id": "35670b6d",
   "metadata": {},
   "source": [
    "Open file"
   ]
  },
  {
   "cell_type": "code",
   "execution_count": 57,
   "id": "61bf7f08",
   "metadata": {},
   "outputs": [],
   "source": [
    "# path is ../sql/db/__NAMEOFCSV__.csv\n",
    "pathToParent = path.dirname(getcwd())\n",
    "csvFile = pathToParent + \"/sqlite/db/DummyFintech.csv\"\n",
    "completeDF = pd.read_csv(csvFile, header = 0)\n",
    "\n",
    "\n"
   ]
  },
  {
   "cell_type": "markdown",
   "id": "6e9b8833",
   "metadata": {},
   "source": [
    "Create Test and trianing sets"
   ]
  },
  {
   "cell_type": "code",
   "execution_count": 58,
   "id": "84e118c4",
   "metadata": {},
   "outputs": [
    {
     "name": "stdout",
     "output_type": "stream",
     "text": [
      "         date  daybefore                                         transcript\n",
      "3  1681147907        3.0  transcript thisly is something bad text at lea...\n",
      "8  1681147907      105.0  transcript transcript transcript transcript ca...\n",
      "6  1681147907      102.0  transcript transcript transcript transcript ca...\n",
      "0  1681147907        2.0  transcript this is my trancript cat cat dog do...\n",
      "4  1681147907      101.8  transcript transcript transcript transcript ca...\n",
      "1  1681147907        1.5  transcript this is this transcript what what c...\n",
      "5  1681147907      101.1       transcript transcript this that cat dog that\n",
      "2  1681147907       10.0  transcript this is your transcript transcript ...\n"
     ]
    }
   ],
   "source": [
    "trainDF, testDF = train_test_split(completeDF, test_size=.2, random_state=435)\n",
    "\n",
    "\n",
    "trainX = trainDF.drop(columns=['dayafter', 'monthafter', 'threemonthsafter'])\n",
    "\n",
    "long_y_train = trainDF['threemonthsafter']\n",
    "medium_y_train = trainDF['monthafter']\n",
    "short_y_train = trainDF['dayafter']\n",
    "\n",
    "testX = testDF.drop(columns=['dayafter', 'monthafter', 'threemonthsafter'])\n",
    "\n",
    "long_y_test = testDF['threemonthsafter']\n",
    "medium_y_test = testDF['monthafter']\n",
    "short_y_test = testDF['dayafter']\n",
    "\n",
    "print(trainX)"
   ]
  },
  {
   "cell_type": "markdown",
   "id": "224b1db0",
   "metadata": {},
   "source": [
    "Create Dummy models"
   ]
  },
  {
   "cell_type": "code",
   "execution_count": 59,
   "id": "f8e334ee",
   "metadata": {},
   "outputs": [
    {
     "name": "stdout",
     "output_type": "stream",
     "text": [
      "['102.2' '102.2' '102.2' '102.2' '102.2' '102.2' '102.2' '102.2']\n",
      "[3. 3.]\n",
      "[4. 4.]\n"
     ]
    }
   ],
   "source": [
    "shortDummy = DummyClassifier()\n",
    "mediumDummy = DummyClassifier()\n",
    "longDummy = DummyClassifier()\n",
    "\n",
    "shortDummy.fit(trainX, short_y_train)\n",
    "mediumDummy.fit(trainX, medium_y_train)\n",
    "longDummy.fit(trainX, long_y_train)\n",
    "\n",
    "print(shortDummy.predict(trainX))\n",
    "print(mediumDummy.predict(testX))\n",
    "print(longDummy.predict(testX))"
   ]
  },
  {
   "cell_type": "markdown",
   "id": "250fc343",
   "metadata": {},
   "source": [
    "Create preprocessing"
   ]
  },
  {
   "cell_type": "code",
   "execution_count": 60,
   "id": "95fc4ceb",
   "metadata": {},
   "outputs": [],
   "source": [
    "preprocessor = ColumnTransformer([('transcript', CountVectorizer(stop_words=\"english\", strip_accents='ascii'),'transcript'),\n",
    "                                ('daybefore/date', StandardScaler(), ['daybefore', 'date'])])\n"
   ]
  },
  {
   "cell_type": "markdown",
   "id": "cfe0792f",
   "metadata": {},
   "source": [
    "Create pipelines"
   ]
  },
  {
   "cell_type": "code",
   "execution_count": 64,
   "id": "6779b383",
   "metadata": {},
   "outputs": [
    {
     "name": "stdout",
     "output_type": "stream",
     "text": [
      "[100.8303644  102.95789464]\n",
      "         date  daybefore                                         transcript\n",
      "7  1681147907      101.0  transcript transcript transcript transcript ca...\n",
      "9  1681147907      103.0  transcript transcript transcript this that cat...\n",
      "7      101.2\n",
      "9    103.3.2\n",
      "Name: dayafter, dtype: object\n"
     ]
    }
   ],
   "source": [
    "pipe = make_pipeline(\n",
    "    preprocessor, \n",
    "    LinearRegression())\n",
    "\n",
    "pipe.fit(trainX, short_y_train)\n",
    "print(pipe.predict(testX))\n",
    "print(testX)\n",
    "print(short_y_test)"
   ]
  },
  {
   "cell_type": "markdown",
   "id": "b8f3c3e0",
   "metadata": {},
   "source": [
    "Test different models"
   ]
  },
  {
   "cell_type": "markdown",
   "id": "2e9ef17a",
   "metadata": {},
   "source": [
    "Creating a grid search to find best hyperperameters. "
   ]
  },
  {
   "cell_type": "markdown",
   "id": "8bbc9112",
   "metadata": {},
   "source": [
    "Create predictions"
   ]
  },
  {
   "cell_type": "markdown",
   "id": "2ad049a9",
   "metadata": {},
   "source": [
    "Add predictions to database"
   ]
  }
 ],
 "metadata": {
  "kernelspec": {
   "display_name": "Python 3 (ipykernel)",
   "language": "python",
   "name": "python3"
  },
  "language_info": {
   "codemirror_mode": {
    "name": "ipython",
    "version": 3
   },
   "file_extension": ".py",
   "mimetype": "text/x-python",
   "name": "python",
   "nbconvert_exporter": "python",
   "pygments_lexer": "ipython3",
   "version": "3.9.12"
  }
 },
 "nbformat": 4,
 "nbformat_minor": 5
}
