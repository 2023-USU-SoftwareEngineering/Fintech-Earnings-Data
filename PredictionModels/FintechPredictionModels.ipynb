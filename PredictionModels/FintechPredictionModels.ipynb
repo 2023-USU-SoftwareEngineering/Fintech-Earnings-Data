{
 "cells": [
  {
   "cell_type": "markdown",
   "id": "9e65f087",
   "metadata": {},
   "source": [
    "Imports"
   ]
  },
  {
   "cell_type": "code",
   "execution_count": 149,
   "id": "9c82f5ce",
   "metadata": {},
   "outputs": [],
   "source": [
    "import pandas as pd\n",
    "import numpy as np\n",
    "\n",
    "\n",
    "from sklearn.model_selection import train_test_split\n",
    "\n",
    "#preprossors\n",
    "from sklearn.preprocessing import StandardScaler\n",
    "from sklearn.feature_extraction.text import CountVectorizer\n",
    "from sklearn.pipeline import Pipeline, make_pipeline\n",
    "from sklearn.compose import ColumnTransformer, make_column_transformer\n",
    "from sklearn.impute import SimpleImputer\n",
    "\n",
    "#models\n",
    "from sklearn.dummy import DummyClassifier\n",
    "from sklearn.linear_model import LinearRegression\n",
    "from sklearn.svm import SVR\n",
    "\n",
    "\n",
    "\n",
    "from sklearn.model_selection import RandomizedSearchCV\n",
    "\n",
    "#Other\n",
    "from os import path, getcwd"
   ]
  },
  {
   "cell_type": "markdown",
   "id": "35670b6d",
   "metadata": {},
   "source": [
    "Open file"
   ]
  },
  {
   "cell_type": "code",
   "execution_count": 150,
   "id": "61bf7f08",
   "metadata": {},
   "outputs": [],
   "source": [
    "# path is ../sql/db/__NAMEOFCSV__.csv\n",
    "pathToParent = path.dirname(getcwd())\n",
    "csvFile = pathToParent + \"/sqlite/db/Fintech.csv\"\n",
    "completeDF = pd.read_csv(csvFile, names=['date', 'daybefore', 'dayafter', 'monthafter', 'threemonthsafter', 'transcript' ])\n",
    "\n"
   ]
  },
  {
   "cell_type": "markdown",
   "id": "6e9b8833",
   "metadata": {},
   "source": [
    "Create Test and trianing sets"
   ]
  },
  {
   "cell_type": "code",
   "execution_count": 151,
   "id": "84e118c4",
   "metadata": {},
   "outputs": [],
   "source": [
    "trainDF, testDF = train_test_split(completeDF, test_size=.2, random_state=435)\n",
    "\n",
    "trainDF = trainDF.dropna()\n",
    "testDF = testDF.dropna()\n",
    "\n",
    "trainX = trainDF.drop(columns=['dayafter', 'monthafter', 'threemonthsafter'])\n",
    "\n",
    "long_y_train = trainDF['threemonthsafter']\n",
    "medium_y_train = trainDF['monthafter']\n",
    "short_y_train = trainDF['dayafter']\n",
    "\n",
    "testX = testDF.drop(columns=['dayafter', 'monthafter', 'threemonthsafter'])\n",
    "\n",
    "long_y_test = testDF['threemonthsafter']\n",
    "medium_y_test = testDF['monthafter']\n",
    "short_y_test = testDF['dayafter']\n"
   ]
  },
  {
   "cell_type": "markdown",
   "id": "224b1db0",
   "metadata": {},
   "source": [
    "Create Dummy models"
   ]
  },
  {
   "cell_type": "code",
   "execution_count": 152,
   "id": "f8e334ee",
   "metadata": {},
   "outputs": [
    {
     "name": "stdout",
     "output_type": "stream",
     "text": [
      "[17.92 17.92 17.92 17.92 17.92 17.92 17.92 17.92 17.92 17.92 17.92 17.92\n",
      " 17.92 17.92 17.92 17.92 17.92 17.92 17.92 17.92 17.92 17.92 17.92 17.92\n",
      " 17.92 17.92 17.92 17.92 17.92 17.92 17.92 17.92 17.92 17.92 17.92 17.92\n",
      " 17.92 17.92 17.92 17.92 17.92 17.92 17.92 17.92 17.92 17.92 17.92 17.92\n",
      " 17.92 17.92 17.92 17.92 17.92 17.92 17.92 17.92 17.92 17.92 17.92 17.92\n",
      " 17.92 17.92 17.92 17.92 17.92 17.92 17.92 17.92 17.92 17.92 17.92 17.92\n",
      " 17.92 17.92 17.92 17.92 17.92 17.92 17.92 17.92 17.92 17.92 17.92 17.92\n",
      " 17.92 17.92 17.92 17.92 17.92 17.92 17.92 17.92 17.92 17.92 17.92 17.92\n",
      " 17.92 17.92 17.92 17.92 17.92 17.92 17.92 17.92 17.92 17.92 17.92 17.92\n",
      " 17.92 17.92 17.92 17.92 17.92 17.92 17.92 17.92 17.92 17.92 17.92 17.92\n",
      " 17.92 17.92 17.92 17.92 17.92 17.92 17.92 17.92 17.92 17.92 17.92 17.92\n",
      " 17.92 17.92 17.92 17.92 17.92 17.92 17.92 17.92 17.92 17.92 17.92 17.92\n",
      " 17.92 17.92 17.92 17.92 17.92 17.92 17.92 17.92 17.92 17.92 17.92 17.92\n",
      " 17.92 17.92 17.92 17.92]\n",
      "[19.71272727 19.71272727 19.71272727 19.71272727 19.71272727 19.71272727\n",
      " 19.71272727 19.71272727 19.71272727 19.71272727 19.71272727 19.71272727\n",
      " 19.71272727 19.71272727 19.71272727 19.71272727 19.71272727 19.71272727\n",
      " 19.71272727 19.71272727 19.71272727 19.71272727 19.71272727 19.71272727\n",
      " 19.71272727 19.71272727 19.71272727 19.71272727 19.71272727 19.71272727\n",
      " 19.71272727 19.71272727 19.71272727 19.71272727 19.71272727 19.71272727\n",
      " 19.71272727 19.71272727 19.71272727 19.71272727]\n",
      "[0. 0. 0. 0. 0. 0. 0. 0. 0. 0. 0. 0. 0. 0. 0. 0. 0. 0. 0. 0. 0. 0. 0. 0.\n",
      " 0. 0. 0. 0. 0. 0. 0. 0. 0. 0. 0. 0. 0. 0. 0. 0.]\n"
     ]
    }
   ],
   "source": [
    "shortDummy = DummyClassifier()\n",
    "mediumDummy = DummyClassifier()\n",
    "longDummy = DummyClassifier()\n",
    "\n",
    "shortDummy.fit(trainX, short_y_train)\n",
    "mediumDummy.fit(trainX, medium_y_train)\n",
    "longDummy.fit(trainX, long_y_train)\n",
    "\n",
    "print(shortDummy.predict(trainX))\n",
    "print(mediumDummy.predict(testX))\n",
    "print(longDummy.predict(testX))"
   ]
  },
  {
   "cell_type": "markdown",
   "id": "250fc343",
   "metadata": {},
   "source": [
    "Create preprocessing"
   ]
  },
  {
   "cell_type": "code",
   "execution_count": 153,
   "id": "6d772666",
   "metadata": {},
   "outputs": [],
   "source": [
    "trainX.transcript = trainX['transcript'].values.astype('U')\n",
    "testX.transcript = testX['transcript'].values.astype('U')\n",
    "\n",
    "    \n",
    "\n"
   ]
  },
  {
   "cell_type": "code",
   "execution_count": 154,
   "id": "95fc4ceb",
   "metadata": {},
   "outputs": [],
   "source": [
    "preprocessor = ColumnTransformer([('transcript', CountVectorizer(stop_words=\"english\", strip_accents='ascii'),'transcript'),\n",
    "                                ('daybefore','passthrough', ['daybefore']),\n",
    "                                ('date', \"drop\", 'date')])\n",
    "countvec = CountVectorizer(stop_words='english', strip_accents='ascii')\n",
    "X_counts = countvec.fit_transform(trainX['transcript'])\n"
   ]
  },
  {
   "cell_type": "markdown",
   "id": "cfe0792f",
   "metadata": {},
   "source": [
    "Create pipelines"
   ]
  },
  {
   "cell_type": "code",
   "execution_count": 169,
   "id": "6779b383",
   "metadata": {},
   "outputs": [
    {
     "name": "stdout",
     "output_type": "stream",
     "text": [
      "           date  daybefore                                         transcript\n",
      "122  1675296000      98.71  Welcome everyone. Thank you for standing by fo...\n",
      "63   1540339200      24.18  Greetings and welcome to the AMD Third Quarter...\n",
      "108  1564012800    1132.62  Good day ladies and gentlemen and welcome to t...\n",
      "192  1603324800      53.14  Ladies and gentlemen thank you for standing by...\n",
      "189  1579737600      61.04  Ladies and gentlemen thank you for standing by...\n",
      "..          ...        ...                                                ...\n",
      "91   1603324800      53.14  Ladies and gentlemen thank you for standing by...\n",
      "68   1580169600      48.45  Greetings and welcome to the AMD fourth-quarte...\n",
      "140  1651104000     155.91  Good day and welcome to the Apple Q2 FY 2022 e...\n",
      "197  1643155200      51.01  Ladies and gentlemen thank you for standing by...\n",
      "194  1619049600      62.79  Good day. Thank you for standing by. Welcome t...\n",
      "\n",
      "[160 rows x 3 columns]\n",
      "<PandasArray>\n",
      "[    51.37,     204.4,    104.88,     58.52,   1195.66,   1550.01,     163.5,\n",
      "    213.85,    143.97,     289.0,    138.97,    150.96,    107.93,   120.515,\n",
      "    1505.0,    310.06, 2683.2399,     58.24,    149.36,   120.515,     292.2,\n",
      "    273.29,  2666.565,     82.55,     51.86,     375.0,    1115.0,     60.75,\n",
      "    108.41,    216.88,    213.85,    155.91,    284.73,     74.23,     69.28,\n",
      "    1275.0,     101.8,     20.32,     101.8,    85.655]\n",
      "Length: 40, dtype: float64\n",
      "[  54.18971712  209.87963011  103.79996688   52.740001   1271.00008231\n",
      " 1667.43999445  165.71001497  210.94914605  148.0301603   288.98982245\n",
      "  139.39017929  148.19993682  129.8900054   127.50217012 1497.05002544\n",
      "  324.44957316 3025.00002493   58.84999012  147.21491929  127.50217012\n",
      "  307.98520427  282.1000066  2726.23887396   78.72993996   55.44009597\n",
      "  411.53509029 1048.33024539   62.99986518  109.26004776  209.54992177\n",
      "  210.94914605  161.83999322  286.25040981   78.46986895   75.49993904\n",
      " 1276.00007936  137.09129274   21.48998051  137.09129274   98.18014015]\n",
      "<PandasArray>\n",
      "[   54.19,   209.88,    103.8,    52.74,   1271.0,  1667.44,   165.71,\n",
      "   207.67,   148.03,   288.99,   139.39,    148.2,   129.89,   121.63,\n",
      "  1497.05,   324.45,   3025.0,    58.85,  147.215,   121.63,  307.985,\n",
      "    282.1, 2726.239,    78.73,    55.44,  411.535,  1048.33,  62.9999,\n",
      "   109.26,   209.55,   207.67,   161.84,   286.25,    78.47,     75.5,\n",
      "   1276.0,    96.43,    21.49,    96.43,    98.18]\n",
      "Length: 40, dtype: float64\n"
     ]
    }
   ],
   "source": [
    "pipe = make_pipeline(\n",
    "    preprocessor, \n",
    "    LinearRegression())\n",
    "\n",
    "print(trainX)\n",
    "pipe.fit(trainX, short_y_train)\n",
    "print(testX['daybefore'].array)\n",
    "print(pipe.predict(testX))\n",
    "print(short_y_test.array)\n",
    "\n"
   ]
  },
  {
   "cell_type": "markdown",
   "id": "2e9ef17a",
   "metadata": {},
   "source": [
    "Creating a grid search to find best hyperperameters. "
   ]
  },
  {
   "cell_type": "code",
   "execution_count": 172,
   "id": "af669cae",
   "metadata": {},
   "outputs": [
    {
     "name": "stderr",
     "output_type": "stream",
     "text": [
      "C:\\Users\\svenw\\anaconda3\\lib\\site-packages\\sklearn\\model_selection\\_search.py:969: UserWarning: One or more of the test scores are non-finite: [nan nan nan nan nan nan nan nan nan nan]\n",
      "  warnings.warn(\n"
     ]
    }
   ],
   "source": [
    "param_dist = {\"columntransformer__transcript__max_features\" : range(100, 10000, 100)}\n",
    "\n",
    "random_search = RandomizedSearchCV(\n",
    "    pipe, param_dist, cv=4, n_jobs=-1, scoring= \"roc_auc\")\n",
    "\n",
    "shortModel = random_search.fit(trainX, short_y_train)\n",
    "\n"
   ]
  },
  {
   "cell_type": "code",
   "execution_count": 159,
   "id": "6f5b75df",
   "metadata": {},
   "outputs": [
    {
     "name": "stdout",
     "output_type": "stream",
     "text": [
      "[  54.18970662  209.87960768  103.80001781   52.7400392  1270.99999905\n",
      " 1667.43984495  165.71012204  210.96117513  148.03017222  288.98980839\n",
      "  139.39024525  148.19995956  129.89002078  127.82568984 1497.04997302\n",
      "  324.44945043 3024.99992446   58.85001171  147.21491305  127.82568984\n",
      "  307.98523706  282.10002917 2726.23871102   78.72995314   55.44014318\n",
      "  411.53514717 1048.33020023   62.99987673  109.26000539  209.54992897\n",
      "  210.96117513  161.84000856  286.25048486   78.46989485   75.49994674\n",
      " 1275.99998104  136.70814311   21.49003785  136.70814311   98.18017652]\n",
      "87       54.1900\n",
      "128     209.8800\n",
      "147     103.8000\n",
      "85       52.7400\n",
      "3      1271.0000\n",
      "12     1667.4400\n",
      "139     165.7100\n",
      "154     207.6700\n",
      "42      148.0300\n",
      "56      288.9900\n",
      "49      139.3900\n",
      "142     148.2000\n",
      "177     129.8900\n",
      "176     121.6300\n",
      "11     1497.0500\n",
      "30      324.4500\n",
      "118    3025.0000\n",
      "92       58.8500\n",
      "138     147.2150\n",
      "75      121.6300\n",
      "159     307.9850\n",
      "59      282.1000\n",
      "116    2726.2390\n",
      "71       78.7300\n",
      "182      55.4400\n",
      "133     411.5350\n",
      "105    1048.3300\n",
      "180      62.9999\n",
      "19      109.2600\n",
      "126     209.5500\n",
      "53      207.6700\n",
      "39      161.8400\n",
      "132     286.2500\n",
      "181      78.4700\n",
      "70       75.5000\n",
      "109    1276.0000\n",
      "20       96.4300\n",
      "64       21.4900\n",
      "121      96.4300\n",
      "77       98.1800\n",
      "Name: dayafter, dtype: float64\n"
     ]
    }
   ],
   "source": [
    "print(shortModel.predict(testX))\n",
    "\n",
    "print(short_y_test.array)\n"
   ]
  },
  {
   "cell_type": "code",
   "execution_count": 170,
   "id": "844c6fb6",
   "metadata": {},
   "outputs": [
    {
     "name": "stderr",
     "output_type": "stream",
     "text": [
      "C:\\Users\\svenw\\anaconda3\\lib\\site-packages\\sklearn\\model_selection\\_search.py:969: UserWarning: One or more of the test scores are non-finite: [nan nan nan nan nan nan nan nan nan nan]\n",
      "  warnings.warn(\n"
     ]
    }
   ],
   "source": [
    "param_dist = {\"columntransformer__transcript__max_features\" : range(100, 10000, 100)}\n",
    "\n",
    "random_search = RandomizedSearchCV(\n",
    "    pipe, param_dist, cv=4, n_jobs=-1, scoring= \"roc_auc\")\n",
    "\n",
    "mediumModel = random_search.fit(trainX, medium_y_train)"
   ]
  },
  {
   "cell_type": "code",
   "execution_count": 171,
   "id": "38cc80bb",
   "metadata": {},
   "outputs": [
    {
     "name": "stdout",
     "output_type": "stream",
     "text": [
      "[  57.07492305  192.20186663  107.22314925   48.14134319 1244.68498153\n",
      " 1726.30772386  169.24106453  203.81032341  149.99015927  291.07617006\n",
      "  145.16982674  147.0033676   119.4318843   115.84449487 1531.35396244\n",
      "  315.97630217 2736.46218717   58.48872767  152.85929257  115.84449487\n",
      "  300.33334307  269.6454986  2731.9808749    81.58293418   53.78430467\n",
      "  459.24621163 1062.89799417   69.66395365  116.33226714  191.05242277\n",
      "  203.81032341  149.40114296  308.68985569   81.01334457   81.11078792\n",
      " 1294.07722588  150.99525008   23.41909001  150.99525008   94.75984651]\n",
      "<PandasArray>\n",
      "[            57.075,  192.2022727272727, 107.22318181818184,\n",
      "  48.14136363636363, 1244.6850000000002, 1726.3072863636364,\n",
      " 169.24113636363634,  212.8215909090909,  149.9903181818182,\n",
      "  291.0762954545455, 145.16954545454544, 147.00363636363633,\n",
      " 119.43181818181816,  139.6440909090909, 1531.3538409090909,\n",
      " 315.97636363636354,  2736.461877272728, 58.488740909090914,\n",
      "  152.8593181818182,  139.6440909090909, 300.33331818181813,\n",
      " 269.64522727272725,  2731.981222727273,  81.58303636363638,\n",
      "  53.78409090909091,  459.2465681818181,  1062.898181818182,\n",
      "  69.66408636363639, 116.33227272727272,  191.0522727272728,\n",
      "  212.8215909090909, 149.40090909090907, 308.68954545454545,\n",
      "  81.01350000000001,  81.11068636363635, 1294.0772727272729,\n",
      "  94.02454545454545,  23.41909090909091,  94.02454545454545,\n",
      "  94.75977272727272]\n",
      "Length: 40, dtype: float64\n"
     ]
    }
   ],
   "source": [
    "print(mediumModel.predict(testX))\n",
    "\n",
    "print(medium_y_test.array)"
   ]
  },
  {
   "cell_type": "code",
   "execution_count": 173,
   "id": "bf00a4f8",
   "metadata": {},
   "outputs": [
    {
     "name": "stderr",
     "output_type": "stream",
     "text": [
      "C:\\Users\\svenw\\anaconda3\\lib\\site-packages\\sklearn\\model_selection\\_search.py:969: UserWarning: One or more of the test scores are non-finite: [nan nan nan nan nan nan nan nan nan nan]\n",
      "  warnings.warn(\n"
     ]
    }
   ],
   "source": [
    "param_dist = {\"columntransformer__transcript__max_features\" : range(100, 10000, 100)}\n",
    "\n",
    "random_search = RandomizedSearchCV(\n",
    "    pipe, param_dist, cv=4, n_jobs=-1, scoring= \"roc_auc\")\n",
    "\n",
    "longModel = random_search.fit(trainX, long_y_train)"
   ]
  },
  {
   "cell_type": "code",
   "execution_count": 174,
   "id": "08295f09",
   "metadata": {},
   "outputs": [
    {
     "name": "stdout",
     "output_type": "stream",
     "text": [
      "[ 5.80744640e+01  1.95574526e+02  1.14714363e+02  4.75415009e+01\n",
      "  1.20514394e+03  1.75730917e+03  1.67397063e+02  2.04961273e+02\n",
      "  1.79393927e-05  2.95644942e+02  1.52421961e+02  1.40037928e+02\n",
      "  1.09747385e+02  9.18589664e+01  1.53002959e+03  2.82316087e+02\n",
      "  2.67446449e+03  6.18429580e+01  1.65350827e+02  9.18589664e+01\n",
      "  2.96104160e+02  2.63342605e+02  2.78719934e+03  8.87770982e+01\n",
      "  5.32427177e+01  2.34553209e+02  1.06083273e+03  6.90197480e+01\n",
      "  1.07613563e+02  1.69852194e+02  2.04961273e+02  1.45202836e+02\n",
      "  3.43352793e+02 -5.68275675e-05  8.16439244e+01  1.34767958e+03\n",
      "  1.87998037e+02  2.51138485e+01  1.87998037e+02  8.91262738e+01]\n",
      "<PandasArray>\n",
      "[         58.074375,       195.57453125, 114.71437500000002,\n",
      "  47.54140625000001, 1205.1438461538455, 1757.3090703125004,\n",
      "      167.397109375,  215.9439062500001,                0.0,\n",
      " 295.64524687499994,       152.42109375, 140.03862500000002,\n",
      "      109.747421875,      141.553515625,    1530.0292078125,\n",
      "  282.3162499999999, 2674.4646296875003,       61.843265625,\n",
      " 165.35070312500005,      141.553515625,  296.1037187500001,\n",
      "  263.3425468749999,  2787.199426562501,  88.77729375000001,\n",
      "  53.24281250000001, 234.55319531250004,          1060.8325,\n",
      "  69.01999843749999,        107.6134375, 169.85234375000002,\n",
      "  215.9439062500001, 145.20218749999998,     343.3520859375,\n",
      "                0.0,  81.64400937499998, 1347.6792307692313,\n",
      "  92.79830156250004, 25.113906250000007,  92.79830156250004,\n",
      "       89.126171875]\n",
      "Length: 40, dtype: float64\n"
     ]
    }
   ],
   "source": [
    "print(longModel.predict(testX))\n",
    "\n",
    "print(long_y_test.array)"
   ]
  },
  {
   "cell_type": "markdown",
   "id": "b8f3c3e0",
   "metadata": {},
   "source": [
    "Test different models"
   ]
  },
  {
   "cell_type": "code",
   "execution_count": 175,
   "id": "54fd2f43",
   "metadata": {},
   "outputs": [
    {
     "name": "stdout",
     "output_type": "stream",
     "text": [
      "[134.20115974 141.97467077 137.84293319 134.39529757 182.44430798\n",
      " 182.13104907 140.20352379 142.55686067 139.3722675  146.13975821\n",
      " 139.20891787 139.77374891 136.86688055 136.52717382 182.49779804\n",
      " 147.32367126 171.18364818 134.85348607 139.64776856 136.52717382\n",
      " 145.97943728 145.50468164 171.35512124 135.71528418 134.72032143\n",
      " 150.5870323  181.45081703 134.85255594 137.49347046 142.6577931\n",
      " 142.55686067 139.80094399 145.60991746 135.10172026 134.73133714\n",
      " 183.02300183 137.44599236 135.44558709 137.44599236 135.70949538]\n",
      "<PandasArray>\n",
      "[   54.19,   209.88,    103.8,    52.74,   1271.0,  1667.44,   165.71,\n",
      "   207.67,   148.03,   288.99,   139.39,    148.2,   129.89,   121.63,\n",
      "  1497.05,   324.45,   3025.0,    58.85,  147.215,   121.63,  307.985,\n",
      "    282.1, 2726.239,    78.73,    55.44,  411.535,  1048.33,  62.9999,\n",
      "   109.26,   209.55,   207.67,   161.84,   286.25,    78.47,     75.5,\n",
      "   1276.0,    96.43,    21.49,    96.43,    98.18]\n",
      "Length: 40, dtype: float64\n"
     ]
    }
   ],
   "source": [
    "pipe = make_pipeline(\n",
    "    preprocessor,\n",
    "    SVR())\n",
    "pipe.fit(trainX, short_y_train)\n",
    "print(pipe.predict(testX))\n",
    "print(short_y_test.array)"
   ]
  },
  {
   "cell_type": "markdown",
   "id": "8bbc9112",
   "metadata": {},
   "source": [
    "Create predictions"
   ]
  },
  {
   "cell_type": "markdown",
   "id": "2ad049a9",
   "metadata": {},
   "source": [
    "Add predictions to database"
   ]
  },
  {
   "cell_type": "code",
   "execution_count": null,
   "id": "23249903",
   "metadata": {},
   "outputs": [],
   "source": []
  }
 ],
 "metadata": {
  "kernelspec": {
   "display_name": "Python 3 (ipykernel)",
   "language": "python",
   "name": "python3"
  },
  "language_info": {
   "codemirror_mode": {
    "name": "ipython",
    "version": 3
   },
   "file_extension": ".py",
   "mimetype": "text/x-python",
   "name": "python",
   "nbconvert_exporter": "python",
   "pygments_lexer": "ipython3",
   "version": "3.9.12"
  }
 },
 "nbformat": 4,
 "nbformat_minor": 5
}
