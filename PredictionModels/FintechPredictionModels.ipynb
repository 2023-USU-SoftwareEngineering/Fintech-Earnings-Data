{
 "cells": [
  {
   "cell_type": "markdown",
   "id": "9e65f087",
   "metadata": {},
   "source": [
    "Imports"
   ]
  },
  {
   "cell_type": "code",
   "execution_count": 12,
   "id": "9c82f5ce",
   "metadata": {},
   "outputs": [],
   "source": [
    "import pandas as pd\n",
    "import numpy as np\n",
    "from sklearn.dummy import DummyClassifier\n",
    "from sklearn.model_selection import train_test_split\n",
    "from os import path, getcwd\n"
   ]
  },
  {
   "cell_type": "code",
   "execution_count": 5,
   "id": "75d0205d",
   "metadata": {},
   "outputs": [],
   "source": []
  },
  {
   "cell_type": "markdown",
   "id": "35670b6d",
   "metadata": {},
   "source": [
    "Open file, create training sets"
   ]
  },
  {
   "cell_type": "code",
   "execution_count": 8,
   "id": "61bf7f08",
   "metadata": {},
   "outputs": [],
   "source": [
    "# path is ../sql/db/__NAMEOFCSV__.csv\n",
    "pathToParent = path.dirname(os.getcwd())\n",
    "csvFile = pathToParent + \"/sqlite/db/DummyFintech.csv\"\n",
    "completeDF = pd.read_csv(csvFile, header = 0)\n",
    "\n",
    "trainDF, testDF = train_test_split(completeDF, test_size=.2, random_state=435)\n",
    "\n",
    "\n",
    "trainX = trainDF.drop(columns=['dayafter', 'monthafter', 'threemonthsafter'])\n",
    "\n",
    "long_y_train = trainDF['threemonthsafter']\n",
    "medium_y_train = trainDF['monthafter']\n",
    "short_y_train = trainDF['dayafter']\n",
    "\n",
    "testX = testDF.drop(columns=['dayafter', 'monthafter', 'threemonthsafter'])\n",
    "\n",
    "long_y_test = testDF['threemonthsafter']\n",
    "medium_y_test = testDF['monthafter']\n",
    "short_y_test = testDF['dayafter']\n",
    "\n"
   ]
  },
  {
   "cell_type": "code",
   "execution_count": 9,
   "id": "9b2da94a",
   "metadata": {},
   "outputs": [
    {
     "name": "stdout",
     "output_type": "stream",
     "text": [
      "4    4.0\n",
      "Name: threemonthsafter, dtype: float64\n",
      "4    3.0\n",
      "Name: monthafter, dtype: float64\n",
      "4    2.0\n",
      "Name: dayafter, dtype: float64\n",
      "NEXT \n",
      "\n",
      "0    2.0\n",
      "3    2.0\n",
      "1    2.0\n",
      "2    2.0\n",
      "Name: dayafter, dtype: float64\n",
      "         date  daybefore  transcript\n",
      "0  1681147907        1.0  transcript\n",
      "3  1681147907        1.0  transcript\n",
      "1  1681147907        1.0  transcript\n",
      "2  1681147907        1.0  transcript\n"
     ]
    }
   ],
   "source": [
    "print(long_y_test)\n",
    "print(medium_y_test)\n",
    "print(short_y_test)\n",
    "print(\"NEXT \\n\")\n",
    "print(short_y_train)\n",
    "print(trainX)"
   ]
  },
  {
   "cell_type": "markdown",
   "id": "224b1db0",
   "metadata": {},
   "source": [
    "Create Dummy models"
   ]
  },
  {
   "cell_type": "code",
   "execution_count": 10,
   "id": "f8e334ee",
   "metadata": {},
   "outputs": [
    {
     "name": "stdout",
     "output_type": "stream",
     "text": [
      "[2. 2. 2. 2.]\n",
      "[3.]\n",
      "[4.]\n"
     ]
    }
   ],
   "source": [
    "shortDummy = DummyClassifier()\n",
    "mediumDummy = DummyClassifier()\n",
    "longDummy = DummyClassifier()\n",
    "\n",
    "shortDummy.fit(trainX, short_y_train)\n",
    "mediumDummy.fit(trainX, medium_y_train)\n",
    "longDummy.fit(trainX, long_y_train)\n",
    "\n",
    "print(shortDummy.predict(trainX))\n",
    "print(mediumDummy.predict(testX))\n",
    "print(longDummy.predict(testX))"
   ]
  },
  {
   "cell_type": "markdown",
   "id": "6e9b8833",
   "metadata": {},
   "source": [
    "Create Test and trianing sets"
   ]
  },
  {
   "cell_type": "markdown",
   "id": "250fc343",
   "metadata": {},
   "source": [
    "Create preprocessing"
   ]
  },
  {
   "cell_type": "markdown",
   "id": "b8f3c3e0",
   "metadata": {},
   "source": [
    "Test different models"
   ]
  },
  {
   "cell_type": "markdown",
   "id": "2e9ef17a",
   "metadata": {},
   "source": [
    "Creating a grid search to find best hyperperameters. "
   ]
  },
  {
   "cell_type": "markdown",
   "id": "8bbc9112",
   "metadata": {},
   "source": [
    "Create predictions"
   ]
  },
  {
   "cell_type": "markdown",
   "id": "2ad049a9",
   "metadata": {},
   "source": [
    "Add predictions to database"
   ]
  }
 ],
 "metadata": {
  "kernelspec": {
   "display_name": "Python 3 (ipykernel)",
   "language": "python",
   "name": "python3"
  },
  "language_info": {
   "codemirror_mode": {
    "name": "ipython",
    "version": 3
   },
   "file_extension": ".py",
   "mimetype": "text/x-python",
   "name": "python",
   "nbconvert_exporter": "python",
   "pygments_lexer": "ipython3",
   "version": "3.9.12"
  }
 },
 "nbformat": 4,
 "nbformat_minor": 5
}
