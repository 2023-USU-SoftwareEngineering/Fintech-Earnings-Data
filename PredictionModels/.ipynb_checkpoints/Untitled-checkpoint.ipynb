{
 "cells": [
  {
   "cell_type": "markdown",
   "id": "9e65f087",
   "metadata": {},
   "source": [
    "Imports"
   ]
  },
  {
   "cell_type": "code",
   "execution_count": null,
   "id": "9c82f5ce",
   "metadata": {},
   "outputs": [],
   "source": [
    "import pandas as pd\n",
    "import numpy as np\n",
    "from sklearn.dummy import DummyClassifier\n",
    "\n"
   ]
  },
  {
   "cell_type": "markdown",
   "id": "35670b6d",
   "metadata": {},
   "source": [
    "Open file, create training sets"
   ]
  },
  {
   "cell_type": "code",
   "execution_count": null,
   "id": "61bf7f08",
   "metadata": {},
   "outputs": [],
   "source": [
    "X_train = train_df.drop(columns=['short', 'medium', 'long'])\n",
    "\n",
    "y_Long = train_df['long']\n",
    "y_Medium = train_df['medium']\n",
    "y_Short = train_df['short']"
   ]
  },
  {
   "cell_type": "markdown",
   "id": "224b1db0",
   "metadata": {},
   "source": [
    "Create Dummy models"
   ]
  },
  {
   "cell_type": "code",
   "execution_count": null,
   "id": "f8e334ee",
   "metadata": {},
   "outputs": [],
   "source": [
    "shortDummy = DummyClassifier(strategy=\"average\")\n",
    "mediumDummy = DummyClassifier(strategy=\"average\")\n",
    "longDummy = DummyClassifier(strategy=\"average\")\n",
    "\n",
    "shortDummy.train(X_train, y_Long)\n",
    "mediumDummy.train(X_train, y_Long\n",
    "LongDummy.train(X_train, y_Long)"
   ]
  },
  {
   "cell_type": "markdown",
   "id": "6e9b8833",
   "metadata": {},
   "source": [
    "Create Test and trianing sets"
   ]
  },
  {
   "cell_type": "markdown",
   "id": "250fc343",
   "metadata": {},
   "source": [
    "Create preprocessing"
   ]
  },
  {
   "cell_type": "markdown",
   "id": "b8f3c3e0",
   "metadata": {},
   "source": [
    "Test different models"
   ]
  },
  {
   "cell_type": "markdown",
   "id": "2e9ef17a",
   "metadata": {},
   "source": [
    "Creating a grid search to find best hyperperameters. "
   ]
  },
  {
   "cell_type": "markdown",
   "id": "8bbc9112",
   "metadata": {},
   "source": [
    "Create predictions"
   ]
  },
  {
   "cell_type": "markdown",
   "id": "2ad049a9",
   "metadata": {},
   "source": [
    "Add predictions to database"
   ]
  }
 ],
 "metadata": {
  "kernelspec": {
   "display_name": "Python 3 (ipykernel)",
   "language": "python",
   "name": "python3"
  },
  "language_info": {
   "codemirror_mode": {
    "name": "ipython",
    "version": 3
   },
   "file_extension": ".py",
   "mimetype": "text/x-python",
   "name": "python",
   "nbconvert_exporter": "python",
   "pygments_lexer": "ipython3",
   "version": "3.9.12"
  }
 },
 "nbformat": 4,
 "nbformat_minor": 5
}
