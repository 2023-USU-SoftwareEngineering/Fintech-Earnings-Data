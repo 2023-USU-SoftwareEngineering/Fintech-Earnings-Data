{
 "cells": [
  {
   "cell_type": "markdown",
   "id": "9e65f087",
   "metadata": {},
   "source": [
    "Imports"
   ]
  },
  {
   "cell_type": "code",
   "execution_count": 4,
   "id": "9c82f5ce",
   "metadata": {},
   "outputs": [],
   "source": [
    "import pandas as pd\n",
    "import numpy as np\n",
    "\n",
    "\n",
    "from sklearn.model_selection import train_test_split\n",
    "\n",
    "#preprossors\n",
    "from sklearn.preprocessing import StandardScaler\n",
    "from sklearn.feature_extraction.text import CountVectorizer\n",
    "from sklearn.pipeline import Pipeline, make_pipeline\n",
    "from sklearn.compose import ColumnTransformer, make_column_transformer\n",
    "from sklearn.impute import SimpleImputer\n",
    "\n",
    "#models\n",
    "from sklearn.dummy import DummyClassifier\n",
    "from sklearn.linear_model import LinearRegression\n",
    "from sklearn.svm import SVR\n",
    "\n",
    "\n",
    "from sklearn.model_selection import RandomizedSearchCV\n",
    "\n",
    "#Other\n",
    "from os import path, getcwd\n",
    "import sql_functions"
   ]
  },
  {
   "cell_type": "markdown",
   "id": "35670b6d",
   "metadata": {},
   "source": [
    "Open file"
   ]
  },
  {
   "cell_type": "code",
   "execution_count": 5,
   "id": "61bf7f08",
   "metadata": {},
   "outputs": [],
   "source": [
    "# path is ../sql/db/__NAMEOFCSV__.csv\n",
    "pathToParent = path.dirname(getcwd())\n",
    "csvFile = pathToParent + \"/sqlite/db/Fintech.csv\"\n",
    "completeDF = pd.read_csv(csvFile, names=['name','date', 'daybefore', 'dayafter', 'monthafter', 'threemonthsafter', 'transcript' ])\n",
    "\n"
   ]
  },
  {
   "cell_type": "markdown",
   "id": "6e9b8833",
   "metadata": {},
   "source": [
    "Create Test and trianing sets"
   ]
  },
  {
   "cell_type": "code",
   "execution_count": 6,
   "id": "84e118c4",
   "metadata": {},
   "outputs": [
    {
     "name": "stdout",
     "output_type": "stream",
     "text": [
      "         name        date  daybefore  dayafter   monthafter  threemonthsafter  \\\n",
      "22      Apple  1525132800    162.130    175.23   184.973636        187.764844   \n",
      "96      Intel  1651104000     45.480     44.99    43.597182         40.736687   \n",
      "49  Microsoft  1580256000    163.780    174.05   179.093636        166.017656   \n",
      "37      Apple  1643241600    163.500    165.71   169.241136        167.397109   \n",
      "30      Apple  1588204800    284.730    286.25   308.689545        343.352086   \n",
      "..        ...         ...        ...       ...          ...               ...   \n",
      "84      Intel  1556150400     58.520     52.74    48.141364         47.541406   \n",
      "12     Google  1612224000   1844.585   2065.61  2062.099800       2127.138712   \n",
      "89      Intel  1595462400     61.310     52.15    49.715909         50.560133   \n",
      "69        AMD  1595894400     69.280     75.50    81.110686         81.644009   \n",
      "66        AMD  1572307200     33.160     32.93    37.167273         42.420000   \n",
      "\n",
      "                                           transcript  \n",
      "22  Good day everyone and welcome to the Apple Inc...  \n",
      "96  Good day ladies and gentlemen thank you for st...  \n",
      "49  Welcome to the Microsoft Fiscal Year 2020 Seco...  \n",
      "37  Good day and welcome to the Apple Q1 FY 2022 e...  \n",
      "30  Good day everyone. Welcome to the Apple Inc. S...  \n",
      "..                                                ...  \n",
      "84  Good day ladies and gentlemen and welcome to t...  \n",
      "12  Welcome everyone and thank you for standing by...  \n",
      "89  Ladies and gentlemen thank you for standing by...  \n",
      "69  Hello and welcome to the AMD second-quarter 20...  \n",
      "66  Greetings and welcome to the Advanced Micro De...  \n",
      "\n",
      "[80 rows x 7 columns]\n"
     ]
    }
   ],
   "source": [
    "trainDF, testDF = train_test_split(completeDF, test_size=.2, random_state=435)\n",
    "\n",
    "print(trainDF)\n",
    "trainDF = trainDF.dropna()\n",
    "testDF = testDF.dropna()\n",
    "\n",
    "trainX = trainDF.drop(columns=['name','dayafter', 'monthafter', 'threemonthsafter'])\n",
    "\n",
    "long_y_train = trainDF['threemonthsafter']\n",
    "medium_y_train = trainDF['monthafter']\n",
    "short_y_train = trainDF['dayafter']\n",
    "\n",
    "testX = testDF.drop(columns=['name','dayafter', 'monthafter', 'threemonthsafter'])\n",
    "\n",
    "long_y_test = testDF['threemonthsafter']\n",
    "medium_y_test = testDF['monthafter']\n",
    "short_y_test = testDF['dayafter']\n"
   ]
  },
  {
   "cell_type": "markdown",
   "id": "224b1db0",
   "metadata": {},
   "source": [
    "Create Dummy models"
   ]
  },
  {
   "cell_type": "code",
   "execution_count": 7,
   "id": "f8e334ee",
   "metadata": {},
   "outputs": [
    {
     "name": "stdout",
     "output_type": "stream",
     "text": [
      "[21.49 21.49 21.49 21.49 21.49 21.49 21.49 21.49 21.49 21.49 21.49 21.49\n",
      " 21.49 21.49 21.49 21.49 21.49 21.49 21.49 21.49 21.49 21.49 21.49 21.49\n",
      " 21.49 21.49 21.49 21.49 21.49 21.49 21.49 21.49 21.49 21.49 21.49 21.49\n",
      " 21.49 21.49 21.49 21.49 21.49 21.49 21.49 21.49 21.49 21.49 21.49 21.49\n",
      " 21.49 21.49 21.49 21.49 21.49 21.49 21.49 21.49 21.49 21.49 21.49 21.49\n",
      " 21.49 21.49 21.49 21.49 21.49 21.49 21.49 21.49 21.49 21.49 21.49 21.49\n",
      " 21.49 21.49 21.49 21.49 21.49 21.49 21.49 21.49]\n",
      "[23.41909091 23.41909091 23.41909091 23.41909091 23.41909091 23.41909091\n",
      " 23.41909091 23.41909091 23.41909091 23.41909091 23.41909091 23.41909091\n",
      " 23.41909091 23.41909091 23.41909091 23.41909091 23.41909091 23.41909091\n",
      " 23.41909091 23.41909091]\n",
      "[0. 0. 0. 0. 0. 0. 0. 0. 0. 0. 0. 0. 0. 0. 0. 0. 0. 0. 0. 0.]\n"
     ]
    }
   ],
   "source": [
    "shortDummy = DummyClassifier()\n",
    "mediumDummy = DummyClassifier()\n",
    "longDummy = DummyClassifier()\n",
    "\n",
    "shortDummy.fit(trainX, short_y_train)\n",
    "mediumDummy.fit(trainX, medium_y_train)\n",
    "longDummy.fit(trainX, long_y_train)\n",
    "\n",
    "print(shortDummy.predict(trainX))\n",
    "print(mediumDummy.predict(testX))\n",
    "print(longDummy.predict(testX))"
   ]
  },
  {
   "cell_type": "markdown",
   "id": "250fc343",
   "metadata": {},
   "source": [
    "Create preprocessing"
   ]
  },
  {
   "cell_type": "code",
   "execution_count": 8,
   "id": "6d772666",
   "metadata": {},
   "outputs": [],
   "source": [
    "trainX.transcript = trainX['transcript'].values.astype('U')\n",
    "testX.transcript = testX['transcript'].values.astype('U')\n"
   ]
  },
  {
   "cell_type": "code",
   "execution_count": 9,
   "id": "95fc4ceb",
   "metadata": {},
   "outputs": [],
   "source": [
    "preprocessor = ColumnTransformer([('transcript', CountVectorizer(stop_words=\"english\", strip_accents='ascii'),'transcript'),\n",
    "                                ('daybefore', 'passthrough', ['daybefore']),\n",
    "                                ('date', \"drop\", 'date')])\n",
    "countvec = CountVectorizer(stop_words='english', strip_accents='ascii')\n",
    "X_counts = countvec.fit_transform(trainX['transcript'])\n"
   ]
  },
  {
   "cell_type": "markdown",
   "id": "cfe0792f",
   "metadata": {},
   "source": [
    "Create pipelines"
   ]
  },
  {
   "cell_type": "code",
   "execution_count": 10,
   "id": "6779b383",
   "metadata": {},
   "outputs": [
    {
     "name": "stdout",
     "output_type": "stream",
     "text": [
      "375.0 379.8797295403162 411.535\n",
      "24.18 23.511833388127208 17.92\n",
      "261.66 257.6807095839688 256.078\n",
      "27.9 24.864648850165132 28.95\n",
      "1115.0 1146.4553957000803 1048.33\n",
      "74.23 97.03745413447157 78.47\n",
      "58.27 56.977568362298996 56.2\n",
      "55.25 30.691547037732438 50.39\n",
      "52.21 15.986681217243834 48.76\n",
      "51.86 41.77616837643939 55.44\n",
      "85.655 90.28306706575125 98.18\n",
      "213.85 205.56947055738672 207.67\n",
      "48.41 34.9270369417153 46.85\n",
      "34.14 17.03228641698895 32.08\n",
      "61.04 79.67131277340478 66.57\n",
      "55.18 36.47591641830203 54.58\n",
      "986.27 987.1126955771502 1030.99\n",
      "143.6 146.6633308641827 139.52\n",
      "150.96 136.72143827416141 148.2\n",
      "310.06 322.3008750906864 324.45\n"
     ]
    }
   ],
   "source": [
    "pipe = make_pipeline(\n",
    "    preprocessor, \n",
    "    LinearRegression())\n",
    "\n",
    "pipe.fit(trainX, short_y_train)\n",
    "\n",
    "predictions = pipe.predict(testX)\n",
    "\n",
    "for i in range(len(testX['daybefore'].array)):\n",
    "    print(testX['daybefore'].array[i], predictions[i], short_y_test.array[i])\n"
   ]
  },
  {
   "cell_type": "markdown",
   "id": "2e9ef17a",
   "metadata": {},
   "source": [
    "Creating a grid search to find best hyperperameters. "
   ]
  },
  {
   "cell_type": "code",
   "execution_count": 11,
   "id": "af669cae",
   "metadata": {},
   "outputs": [
    {
     "name": "stderr",
     "output_type": "stream",
     "text": [
      "C:\\Users\\svenw\\anaconda3\\lib\\site-packages\\sklearn\\model_selection\\_search.py:969: UserWarning: One or more of the test scores are non-finite: [nan nan nan nan nan nan nan nan nan nan]\n",
      "  warnings.warn(\n"
     ]
    }
   ],
   "source": [
    "param_dist = {\"columntransformer__transcript__max_features\" : range(100, 10000, 100)}\n",
    "\n",
    "random_search = RandomizedSearchCV(\n",
    "    pipe, param_dist, cv=4, n_jobs=-1, scoring= \"roc_auc\")\n",
    "\n",
    "shortModel = random_search.fit(trainX, short_y_train)\n",
    "\n"
   ]
  },
  {
   "cell_type": "code",
   "execution_count": 12,
   "id": "b01fe0fe",
   "metadata": {},
   "outputs": [
    {
     "name": "stdout",
     "output_type": "stream",
     "text": [
      "[ 379.88235651   23.62612394  257.62292476   24.82941666 1146.45551545\n",
      "   97.30710897   56.89391847   30.47904677   15.53547135   41.69463088\n",
      "   90.29759858  205.46511211   34.90073871   16.91281492   79.8192838\n",
      "   36.24891806  987.24370102  146.69326706  136.6131929   322.45417151]\n",
      "<PandasArray>\n",
      "[411.535,   17.92, 256.078,   28.95, 1048.33,   78.47,    56.2,   50.39,\n",
      "   48.76,   55.44,   98.18,  207.67,   46.85,   32.08,   66.57,   54.58,\n",
      " 1030.99,  139.52,   148.2,  324.45]\n",
      "Length: 20, dtype: float64\n"
     ]
    }
   ],
   "source": [
    "print(shortModel.predict(testX))\n",
    "\n",
    "print(short_y_test.array)\n"
   ]
  },
  {
   "cell_type": "code",
   "execution_count": 13,
   "id": "d11e3fe5",
   "metadata": {},
   "outputs": [
    {
     "name": "stderr",
     "output_type": "stream",
     "text": [
      "C:\\Users\\svenw\\anaconda3\\lib\\site-packages\\sklearn\\model_selection\\_search.py:969: UserWarning: One or more of the test scores are non-finite: [nan nan nan nan nan nan nan nan nan nan]\n",
      "  warnings.warn(\n"
     ]
    }
   ],
   "source": [
    "param_dist = {\"columntransformer__transcript__max_features\" : range(100, 10000, 100)}\n",
    "\n",
    "random_search = RandomizedSearchCV(\n",
    "    pipe, param_dist, cv=4, n_jobs=-1, scoring= \"roc_auc\")\n",
    "\n",
    "mediumModel = random_search.fit(trainX, medium_y_train)"
   ]
  },
  {
   "cell_type": "code",
   "execution_count": 14,
   "id": "477803b4",
   "metadata": {},
   "outputs": [
    {
     "name": "stdout",
     "output_type": "stream",
     "text": [
      "[ 374.82747261   28.25174789  252.63193046   28.00056604 1121.94112269\n",
      "   77.63754836   49.21138319   85.0435521    52.92111991   51.06239292\n",
      "   89.12944363  203.58310436   10.7670878    15.57090921   38.78651019\n",
      "   51.95085557  936.20407049  127.84234075  118.19958347  333.24207903]\n",
      "<PandasArray>\n",
      "[ 459.2465681818181, 19.712727272727275, 248.84054545454543,\n",
      "  27.25909090909091,  1062.898181818182,  81.01350000000001,\n",
      "  59.50045454545455,  50.26505909090909, 48.388181818181806,\n",
      "  53.78409090909091,  94.75977272727272,  212.8215909090909,\n",
      "  49.24727272727273, 31.009318181818177,  66.32863636363638,\n",
      "  53.64429090909091, 1040.4272727272726, 133.64136363636365,\n",
      " 147.00363636363633, 315.97636363636354]\n",
      "Length: 20, dtype: float64\n"
     ]
    }
   ],
   "source": [
    "print(mediumModel.predict(testX))\n",
    "\n",
    "print(medium_y_test.array)"
   ]
  },
  {
   "cell_type": "code",
   "execution_count": 15,
   "id": "6b6f2a5f",
   "metadata": {},
   "outputs": [
    {
     "name": "stderr",
     "output_type": "stream",
     "text": [
      "C:\\Users\\svenw\\anaconda3\\lib\\site-packages\\sklearn\\model_selection\\_search.py:969: UserWarning: One or more of the test scores are non-finite: [nan nan nan nan nan nan nan nan nan nan]\n",
      "  warnings.warn(\n"
     ]
    }
   ],
   "source": [
    "param_dist = {\"columntransformer__transcript__max_features\" : range(100, 10000, 100)}\n",
    "\n",
    "random_search = RandomizedSearchCV(\n",
    "    pipe, param_dist, cv=4, n_jobs=-1, scoring= \"roc_auc\")\n",
    "\n",
    "longModel = random_search.fit(trainX, long_y_train)"
   ]
  },
  {
   "cell_type": "code",
   "execution_count": 16,
   "id": "c5837825",
   "metadata": {},
   "outputs": [
    {
     "name": "stdout",
     "output_type": "stream",
     "text": [
      "[ 3.93787774e+02  3.50087503e+01  2.11011679e+02  3.39897017e+01\n",
      "  1.11085975e+03  3.43603062e+01  7.16622457e+01  7.57516933e+01\n",
      "  5.50345839e+01  6.74769813e+01  6.79436676e+01  1.89509604e+02\n",
      " -9.53159799e+00  3.63759096e-03  3.19222743e+01  2.23439114e+01\n",
      "  9.27708710e+02  1.49832260e+02  9.07588367e+01  3.51052586e+02]\n",
      "<PandasArray>\n",
      "[234.55319531250004,  19.63421875000001,  260.1805859374999,\n",
      " 30.051484375000005,          1060.8325,                0.0,\n",
      "  60.16468749999998,  51.20227499999999,  47.19499999999999,\n",
      "  53.24281250000001,       89.126171875,  215.9439062500001,\n",
      "  52.80156250000002, 30.533984374999992,  58.67562500000001,\n",
      "       53.787384375, 1065.9328124999995,       128.47078125,\n",
      " 140.03862500000002,  282.3162499999999]\n",
      "Length: 20, dtype: float64\n"
     ]
    }
   ],
   "source": [
    "print(longModel.predict(testX))\n",
    "\n",
    "print(long_y_test.array)"
   ]
  },
  {
   "cell_type": "markdown",
   "id": "b8f3c3e0",
   "metadata": {},
   "source": [
    "Test different models"
   ]
  },
  {
   "cell_type": "code",
   "execution_count": 17,
   "id": "54fd2f43",
   "metadata": {},
   "outputs": [
    {
     "name": "stdout",
     "output_type": "stream",
     "text": [
      "[152.4724875  145.4837891  149.8579085  146.1325234  169.42195064\n",
      " 146.01967473 145.76486653 145.82714928 145.67121297 145.77380447\n",
      " 146.20710028 148.88246113 145.71428283 145.48426231 145.78199318\n",
      " 145.65042171 167.40551806 147.61191274 147.73872798 150.99736455]\n",
      "<PandasArray>\n",
      "[411.535,   17.92, 256.078,   28.95, 1048.33,   78.47,    56.2,   50.39,\n",
      "   48.76,   55.44,   98.18,  207.67,   46.85,   32.08,   66.57,   54.58,\n",
      " 1030.99,  139.52,   148.2,  324.45]\n",
      "Length: 20, dtype: float64\n"
     ]
    }
   ],
   "source": [
    "pipe = make_pipeline(\n",
    "    preprocessor,\n",
    "    SVR())\n",
    "pipe.fit(trainX, short_y_train)\n",
    "print(pipe.predict(testX))\n",
    "print(short_y_test.array)"
   ]
  },
  {
   "cell_type": "markdown",
   "id": "8bbc9112",
   "metadata": {},
   "source": [
    "Create predictions"
   ]
  },
  {
   "cell_type": "markdown",
   "id": "2ad049a9",
   "metadata": {},
   "source": [
    "Add predictions to database"
   ]
  },
  {
   "cell_type": "code",
   "execution_count": 18,
   "id": "23249903",
   "metadata": {},
   "outputs": [],
   "source": [
    "completeDF.sort_values('date', ascending=False)\n",
    "companyCount = completeDF['name'].nunique()\n",
    "\n",
    "predictionDict = {}\n",
    "rowIndex = 1\n",
    "while len(predictionDict) < companyCount:\n",
    "    row = completeDF.iloc[rowIndex].to_frame().T\n",
    "    if row['name'].iloc[0] not in predictionDict:\n",
    "        predictions = [shortModel.predict(row)[0], mediumModel.predict(row)[0], longModel.predict(row)[0]]\n",
    "        predictionDict[row['name'].iloc[0]] = predictions\n",
    "    \n",
    "    rowIndex += 1\n",
    "\n"
   ]
  },
  {
   "cell_type": "code",
   "execution_count": 22,
   "id": "9c2a1130",
   "metadata": {},
   "outputs": [
    {
     "name": "stdout",
     "output_type": "stream",
     "text": [
      "Google [1127.4198764557289, 1092.912272727273, 1076.083964358762]\n",
      "Apple [159.10004432122025, 168.30809523809413, 170.81934113113525]\n",
      "Microsoft [64.3550633710329, 64.1888636363618, 65.01838691683986]\n",
      "AMD [23.626123941795385, 28.251747894871457, 35.00875029565694]\n",
      "Intel [41.694630877609185, 51.062392919944756, 67.47698129361858]\n"
     ]
    }
   ],
   "source": [
    "for key, value in predictionDict.items():\n",
    "    print(key, value)\n",
    "    sql_functions.add_prediction_short(key, value[0])\n",
    "    sql_functions.add_prediction_medium(key, value[1])\n",
    "    sql_functions.add_prediction_long(key, value[2])\n",
    "    "
   ]
  },
  {
   "cell_type": "code",
   "execution_count": null,
   "id": "e99285bd",
   "metadata": {},
   "outputs": [],
   "source": []
  },
  {
   "cell_type": "code",
   "execution_count": null,
   "id": "22a982eb",
   "metadata": {},
   "outputs": [],
   "source": []
  }
 ],
 "metadata": {
  "kernelspec": {
   "display_name": "Python 3 (ipykernel)",
   "language": "python",
   "name": "python3"
  },
  "language_info": {
   "codemirror_mode": {
    "name": "ipython",
    "version": 3
   },
   "file_extension": ".py",
   "mimetype": "text/x-python",
   "name": "python",
   "nbconvert_exporter": "python",
   "pygments_lexer": "ipython3",
   "version": "3.9.12"
  }
 },
 "nbformat": 4,
 "nbformat_minor": 5
}
