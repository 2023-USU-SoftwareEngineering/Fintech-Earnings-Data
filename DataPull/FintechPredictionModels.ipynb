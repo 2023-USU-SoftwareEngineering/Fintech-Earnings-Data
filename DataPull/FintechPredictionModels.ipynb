{
 "cells": [
  {
   "cell_type": "markdown",
   "id": "9e65f087",
   "metadata": {},
   "source": [
    "Imports"
   ]
  },
  {
   "cell_type": "code",
   "execution_count": 48,
   "id": "9c82f5ce",
   "metadata": {},
   "outputs": [],
   "source": [
    "import pandas as pd\n",
    "import numpy as np\n",
    "\n",
    "\n",
    "from sklearn.model_selection import train_test_split\n",
    "\n",
    "#preprossors\n",
    "from sklearn.preprocessing import StandardScaler\n",
    "from sklearn.feature_extraction.text import CountVectorizer\n",
    "from sklearn.pipeline import Pipeline, make_pipeline\n",
    "from sklearn.compose import ColumnTransformer, make_column_transformer\n",
    "from sklearn.impute import SimpleImputer\n",
    "\n",
    "#models\n",
    "from sklearn.dummy import DummyClassifier\n",
    "from sklearn.linear_model import LinearRegression\n",
    "from sklearn.svm import SVR\n",
    "\n",
    "\n",
    "from sklearn.model_selection import RandomizedSearchCV\n",
    "\n",
    "#Other\n",
    "from os import path, getcwd\n",
    "import sql_functions\n"
   ]
  },
  {
   "cell_type": "markdown",
   "id": "35670b6d",
   "metadata": {},
   "source": [
    "Open file"
   ]
  },
  {
   "cell_type": "code",
   "execution_count": 49,
   "id": "61bf7f08",
   "metadata": {},
   "outputs": [],
   "source": [
    "# path is ../sql/db/__NAMEOFCSV__.csv\n",
    "pathToParent = path.dirname(getcwd())\n",
    "csvFile = pathToParent + \"/sqlite/db/Fintech.csv\"\n",
    "completeDF = pd.read_csv(csvFile, names=['name','date', 'daybefore', 'dayafter', 'monthafter', 'threemonthsafter', 'transcript' ])\n",
    "\n"
   ]
  },
  {
   "cell_type": "markdown",
   "id": "6e9b8833",
   "metadata": {},
   "source": [
    "Create Test and trianing sets"
   ]
  },
  {
   "cell_type": "code",
   "execution_count": 50,
   "id": "84e118c4",
   "metadata": {},
   "outputs": [
    {
     "name": "stdout",
     "output_type": "stream",
     "text": [
      "         name        date  daybefore  dayafter   monthafter  threemonthsafter  \\\n",
      "22      Apple  1525132800    162.130    175.23   184.973636        187.764844   \n",
      "96      Intel  1651104000     45.480     44.99    43.597182         40.736687   \n",
      "49  Microsoft  1580256000    163.780    174.05   179.093636        166.017656   \n",
      "37      Apple  1643241600    163.500    165.71   169.241136        167.397109   \n",
      "30      Apple  1588204800    284.730    286.25   308.689545        343.352086   \n",
      "..        ...         ...        ...       ...          ...               ...   \n",
      "84      Intel  1556150400     58.520     52.74    48.141364         47.541406   \n",
      "12     Google  1612224000   1844.585   2065.61  2062.099800       2127.138712   \n",
      "89      Intel  1595462400     61.310     52.15    49.715909         50.560133   \n",
      "69        AMD  1595894400     69.280     75.50    81.110686         81.644009   \n",
      "66        AMD  1572307200     33.160     32.93    37.167273         42.420000   \n",
      "\n",
      "                                           transcript  \n",
      "22  Good day everyone and welcome to the Apple Inc...  \n",
      "96  Good day ladies and gentlemen thank you for st...  \n",
      "49  Welcome to the Microsoft Fiscal Year 2020 Seco...  \n",
      "37  Good day and welcome to the Apple Q1 FY 2022 e...  \n",
      "30  Good day everyone. Welcome to the Apple Inc. S...  \n",
      "..                                                ...  \n",
      "84  Good day ladies and gentlemen and welcome to t...  \n",
      "12  Welcome everyone and thank you for standing by...  \n",
      "89  Ladies and gentlemen thank you for standing by...  \n",
      "69  Hello and welcome to the AMD second-quarter 20...  \n",
      "66  Greetings and welcome to the Advanced Micro De...  \n",
      "\n",
      "[80 rows x 7 columns]\n"
     ]
    }
   ],
   "source": [
    "trainDF, testDF = train_test_split(completeDF, test_size=.2, random_state=435)\n",
    "\n",
    "print(trainDF)\n",
    "trainDF = trainDF.dropna()\n",
    "testDF = testDF.dropna()\n",
    "\n",
    "trainX = trainDF.drop(columns=['name','dayafter', 'monthafter', 'threemonthsafter'])\n",
    "\n",
    "long_y_train = trainDF['threemonthsafter']\n",
    "medium_y_train = trainDF['monthafter']\n",
    "short_y_train = trainDF['dayafter']\n",
    "\n",
    "testX = testDF.drop(columns=['name','dayafter', 'monthafter', 'threemonthsafter'])\n",
    "\n",
    "long_y_test = testDF['threemonthsafter']\n",
    "medium_y_test = testDF['monthafter']\n",
    "short_y_test = testDF['dayafter']\n"
   ]
  },
  {
   "cell_type": "markdown",
   "id": "224b1db0",
   "metadata": {},
   "source": [
    "Create Dummy models"
   ]
  },
  {
   "cell_type": "code",
   "execution_count": 51,
   "id": "f8e334ee",
   "metadata": {},
   "outputs": [
    {
     "name": "stdout",
     "output_type": "stream",
     "text": [
      "[21.49 21.49 21.49 21.49 21.49 21.49 21.49 21.49 21.49 21.49 21.49 21.49\n",
      " 21.49 21.49 21.49 21.49 21.49 21.49 21.49 21.49 21.49 21.49 21.49 21.49\n",
      " 21.49 21.49 21.49 21.49 21.49 21.49 21.49 21.49 21.49 21.49 21.49 21.49\n",
      " 21.49 21.49 21.49 21.49 21.49 21.49 21.49 21.49 21.49 21.49 21.49 21.49\n",
      " 21.49 21.49 21.49 21.49 21.49 21.49 21.49 21.49 21.49 21.49 21.49 21.49\n",
      " 21.49 21.49 21.49 21.49 21.49 21.49 21.49 21.49 21.49 21.49 21.49 21.49\n",
      " 21.49 21.49 21.49 21.49 21.49 21.49 21.49 21.49]\n",
      "[23.41909091 23.41909091 23.41909091 23.41909091 23.41909091 23.41909091\n",
      " 23.41909091 23.41909091 23.41909091 23.41909091 23.41909091 23.41909091\n",
      " 23.41909091 23.41909091 23.41909091 23.41909091 23.41909091 23.41909091\n",
      " 23.41909091 23.41909091]\n",
      "[0. 0. 0. 0. 0. 0. 0. 0. 0. 0. 0. 0. 0. 0. 0. 0. 0. 0. 0. 0.]\n"
     ]
    }
   ],
   "source": [
    "shortDummy = DummyClassifier()\n",
    "mediumDummy = DummyClassifier()\n",
    "longDummy = DummyClassifier()\n",
    "\n",
    "shortDummy.fit(trainX, short_y_train)\n",
    "mediumDummy.fit(trainX, medium_y_train)\n",
    "longDummy.fit(trainX, long_y_train)\n",
    "\n",
    "print(shortDummy.predict(trainX))\n",
    "print(mediumDummy.predict(testX))\n",
    "print(longDummy.predict(testX))"
   ]
  },
  {
   "cell_type": "markdown",
   "id": "250fc343",
   "metadata": {},
   "source": [
    "Create preprocessing"
   ]
  },
  {
   "cell_type": "code",
   "execution_count": 52,
   "id": "6d772666",
   "metadata": {},
   "outputs": [],
   "source": [
    "trainX.transcript = trainX['transcript'].values.astype('U')\n",
    "testX.transcript = testX['transcript'].values.astype('U')\n"
   ]
  },
  {
   "cell_type": "code",
   "execution_count": 53,
   "id": "95fc4ceb",
   "metadata": {},
   "outputs": [],
   "source": [
    "preprocessor = ColumnTransformer([('transcript', CountVectorizer(stop_words=\"english\", strip_accents='ascii'),'transcript'),\n",
    "                                ('daybefore', 'passthrough', ['daybefore']),\n",
    "                                ('date', \"drop\", 'date')])"
   ]
  },
  {
   "cell_type": "markdown",
   "id": "cfe0792f",
   "metadata": {},
   "source": [
    "Create pipelines"
   ]
  },
  {
   "cell_type": "code",
   "execution_count": 54,
   "id": "6779b383",
   "metadata": {},
   "outputs": [
    {
     "name": "stdout",
     "output_type": "stream",
     "text": [
      "375.0 379.8797295403162 411.535\n",
      "24.18 23.511833388127208 17.92\n",
      "261.66 257.6807095839688 256.078\n",
      "27.9 24.864648850165132 28.95\n",
      "1115.0 1146.4553957000803 1048.33\n",
      "74.23 97.03745413447157 78.47\n",
      "58.27 56.977568362298996 56.2\n",
      "55.25 30.691547037732438 50.39\n",
      "52.21 15.986681217243834 48.76\n",
      "51.86 41.77616837643939 55.44\n",
      "85.655 90.28306706575125 98.18\n",
      "213.85 205.56947055738672 207.67\n",
      "48.41 34.9270369417153 46.85\n",
      "34.14 17.03228641698895 32.08\n",
      "61.04 79.67131277340478 66.57\n",
      "55.18 36.47591641830203 54.58\n",
      "986.27 987.1126955771502 1030.99\n",
      "143.6 146.6633308641827 139.52\n",
      "150.96 136.72143827416141 148.2\n",
      "310.06 322.3008750906864 324.45\n"
     ]
    }
   ],
   "source": [
    "pipe = make_pipeline(\n",
    "    preprocessor, \n",
    "    LinearRegression())\n",
    "\n",
    "pipe.fit(trainX, short_y_train)\n",
    "\n",
    "predictions = pipe.predict(testX)\n",
    "\n",
    "for i in range(len(testX['daybefore'].array)):\n",
    "    print(testX['daybefore'].array[i], predictions[i], short_y_test.array[i])\n"
   ]
  },
  {
   "cell_type": "markdown",
   "id": "2e9ef17a",
   "metadata": {},
   "source": [
    "Creating a grid search to find best hyperperameters. "
   ]
  },
  {
   "cell_type": "code",
   "execution_count": 55,
   "id": "af669cae",
   "metadata": {},
   "outputs": [
    {
     "name": "stderr",
     "output_type": "stream",
     "text": [
      "C:\\Users\\svenw\\anaconda3\\lib\\site-packages\\sklearn\\model_selection\\_search.py:969: UserWarning: One or more of the test scores are non-finite: [nan nan nan nan nan nan nan nan nan nan]\n",
      "  warnings.warn(\n"
     ]
    }
   ],
   "source": [
    "param_dist = {\"columntransformer__transcript__max_features\" : range(100, 10000, 100)}\n",
    "\n",
    "random_search = RandomizedSearchCV(\n",
    "    pipe, param_dist, cv=4, n_jobs=-1, scoring= \"roc_auc\")\n",
    "\n",
    "shortModel = random_search.fit(trainX, short_y_train)\n",
    "\n"
   ]
  },
  {
   "cell_type": "code",
   "execution_count": 56,
   "id": "b01fe0fe",
   "metadata": {},
   "outputs": [
    {
     "name": "stdout",
     "output_type": "stream",
     "text": [
      "[ 379.89633428   23.66896605  257.61645836   24.82126382 1146.54210829\n",
      "   97.35425085   56.89891301   30.47710193   15.44188942   41.67113777\n",
      "   90.31455529  205.41849847   34.86986636   16.85989928   79.83165756\n",
      "   36.18136789  987.14485226  146.68210548  136.60999325  322.48438559]\n",
      "<PandasArray>\n",
      "[411.535,   17.92, 256.078,   28.95, 1048.33,   78.47,    56.2,   50.39,\n",
      "   48.76,   55.44,   98.18,  207.67,   46.85,   32.08,   66.57,   54.58,\n",
      " 1030.99,  139.52,   148.2,  324.45]\n",
      "Length: 20, dtype: float64\n"
     ]
    }
   ],
   "source": [
    "print(shortModel.predict(testX))\n",
    "\n",
    "print(short_y_test.array)\n"
   ]
  },
  {
   "cell_type": "code",
   "execution_count": 57,
   "id": "d11e3fe5",
   "metadata": {},
   "outputs": [
    {
     "name": "stderr",
     "output_type": "stream",
     "text": [
      "C:\\Users\\svenw\\anaconda3\\lib\\site-packages\\sklearn\\model_selection\\_search.py:969: UserWarning: One or more of the test scores are non-finite: [nan nan nan nan nan nan nan nan nan nan]\n",
      "  warnings.warn(\n"
     ]
    }
   ],
   "source": [
    "param_dist = {\"columntransformer__transcript__max_features\" : range(100, 10000, 100)}\n",
    "\n",
    "random_search = RandomizedSearchCV(\n",
    "    pipe, param_dist, cv=4, n_jobs=-1, scoring= \"roc_auc\")\n",
    "\n",
    "mediumModel = random_search.fit(trainX, medium_y_train)"
   ]
  },
  {
   "cell_type": "code",
   "execution_count": 58,
   "id": "477803b4",
   "metadata": {},
   "outputs": [
    {
     "name": "stdout",
     "output_type": "stream",
     "text": [
      "[ 375.66716728   28.00009764  254.18470531   28.17869775 1124.03906393\n",
      "   78.73554482   49.44028691   81.18414741   52.64240236   51.01830501\n",
      "   89.68426249  204.57905221   11.52515748   17.37700058   40.05062273\n",
      "   50.96752068  939.57260384  130.18527278  120.15185551  330.87475671]\n",
      "<PandasArray>\n",
      "[ 459.2465681818181, 19.712727272727275, 248.84054545454543,\n",
      "  27.25909090909091,  1062.898181818182,  81.01350000000001,\n",
      "  59.50045454545455,  50.26505909090909, 48.388181818181806,\n",
      "  53.78409090909091,  94.75977272727272,  212.8215909090909,\n",
      "  49.24727272727273, 31.009318181818177,  66.32863636363638,\n",
      "  53.64429090909091, 1040.4272727272726, 133.64136363636365,\n",
      " 147.00363636363633, 315.97636363636354]\n",
      "Length: 20, dtype: float64\n"
     ]
    }
   ],
   "source": [
    "print(mediumModel.predict(testX))\n",
    "\n",
    "print(medium_y_test.array)"
   ]
  },
  {
   "cell_type": "markdown",
   "id": "13f201f0",
   "metadata": {},
   "source": [
    "There are some entries where there are zero values for the three month prediction, I will drop all of those rows, since none of these stocks drop to zero. I think this happens if 3 months have'nt passed since the last earnings call."
   ]
  },
  {
   "cell_type": "code",
   "execution_count": 59,
   "id": "5ca9016e",
   "metadata": {},
   "outputs": [
    {
     "name": "stdout",
     "output_type": "stream",
     "text": [
      "          date  daybefore                                         transcript  \\\n",
      "22  1525132800    162.130  Good day everyone and welcome to the Apple Inc...   \n",
      "96  1651104000     45.480  Good day ladies and gentlemen thank you for st...   \n",
      "49  1580256000    163.780  Welcome to the Microsoft Fiscal Year 2020 Seco...   \n",
      "37  1643241600    163.500  Good day and welcome to the Apple Q1 FY 2022 e...   \n",
      "30  1588204800    284.730  Good day everyone. Welcome to the Apple Inc. S...   \n",
      "..         ...        ...                                                ...   \n",
      "84  1556150400     58.520  Good day ladies and gentlemen and welcome to t...   \n",
      "12  1612224000   1844.585  Welcome everyone and thank you for standing by...   \n",
      "89  1595462400     61.310  Ladies and gentlemen thank you for standing by...   \n",
      "69  1595894400     69.280  Hello and welcome to the AMD second-quarter 20...   \n",
      "66  1572307200     33.160  Greetings and welcome to the Advanced Micro De...   \n",
      "\n",
      "    threeMonthsAfter  \n",
      "22        187.764844  \n",
      "96         40.736687  \n",
      "49        166.017656  \n",
      "37        167.397109  \n",
      "30        343.352086  \n",
      "..               ...  \n",
      "84         47.541406  \n",
      "12       2127.138712  \n",
      "89         50.560133  \n",
      "69         81.644009  \n",
      "66         42.420000  \n",
      "\n",
      "[80 rows x 4 columns]\n",
      "(80, 4)\n"
     ]
    }
   ],
   "source": [
    "longTrainX = trainX\n",
    "longTrainX['threeMonthsAfter'] = long_y_train\n",
    "print(trainX)\n",
    "print(trainX.shape)\n",
    "longTrainX = longTrainX[longTrainX['threeMonthsAfter'] != 0]\n",
    "long_y_train = longTrainX['threeMonthsAfter']\n",
    "longTrainX = longTrainX.drop(columns=[\"threeMonthsAfter\"])"
   ]
  },
  {
   "cell_type": "code",
   "execution_count": 60,
   "id": "6b6f2a5f",
   "metadata": {},
   "outputs": [
    {
     "name": "stderr",
     "output_type": "stream",
     "text": [
      "C:\\Users\\svenw\\anaconda3\\lib\\site-packages\\sklearn\\model_selection\\_search.py:969: UserWarning: One or more of the test scores are non-finite: [nan nan nan nan nan nan nan nan nan nan]\n",
      "  warnings.warn(\n"
     ]
    }
   ],
   "source": [
    "param_dist = {\"columntransformer__transcript__max_features\" : range(100, 10000, 100)}\n",
    "\n",
    "random_search = RandomizedSearchCV(\n",
    "    pipe, param_dist, cv=4, n_jobs=-1, scoring= \"roc_auc\")\n",
    "\n",
    "longModel = random_search.fit(longTrainX, long_y_train)"
   ]
  },
  {
   "cell_type": "code",
   "execution_count": 61,
   "id": "c5837825",
   "metadata": {},
   "outputs": [
    {
     "name": "stdout",
     "output_type": "stream",
     "text": [
      "[ 381.25165939   29.07578411  236.2537527    33.27853686 1105.96614158\n",
      "   60.86516999   77.73495803   81.19255115   51.35323093   62.94603212\n",
      "   78.19568718  203.65436989   -2.04945868    1.88473052   38.90052798\n",
      "   40.45371052  929.81089135  147.80049434  115.09215832  351.81412666]\n",
      "<PandasArray>\n",
      "[234.55319531250004,  19.63421875000001,  260.1805859374999,\n",
      " 30.051484375000005,          1060.8325,                0.0,\n",
      "  60.16468749999998,  51.20227499999999,  47.19499999999999,\n",
      "  53.24281250000001,       89.126171875,  215.9439062500001,\n",
      "  52.80156250000002, 30.533984374999992,  58.67562500000001,\n",
      "       53.787384375, 1065.9328124999995,       128.47078125,\n",
      " 140.03862500000002,  282.3162499999999]\n",
      "Length: 20, dtype: float64\n"
     ]
    }
   ],
   "source": [
    "print(longModel.predict(testX))\n",
    "\n",
    "print(long_y_test.array)"
   ]
  },
  {
   "cell_type": "markdown",
   "id": "b8f3c3e0",
   "metadata": {},
   "source": [
    "Test different models"
   ]
  },
  {
   "cell_type": "code",
   "execution_count": 62,
   "id": "54fd2f43",
   "metadata": {},
   "outputs": [
    {
     "name": "stdout",
     "output_type": "stream",
     "text": [
      "[152.4724875  145.4837891  149.8579085  146.1325234  169.42195064\n",
      " 146.01967473 145.76486653 145.82714928 145.67121297 145.77380447\n",
      " 146.20710028 148.88246113 145.71428283 145.48426231 145.78199318\n",
      " 145.65042171 167.40551806 147.61191274 147.73872798 150.99736455]\n",
      "<PandasArray>\n",
      "[411.535,   17.92, 256.078,   28.95, 1048.33,   78.47,    56.2,   50.39,\n",
      "   48.76,   55.44,   98.18,  207.67,   46.85,   32.08,   66.57,   54.58,\n",
      " 1030.99,  139.52,   148.2,  324.45]\n",
      "Length: 20, dtype: float64\n"
     ]
    }
   ],
   "source": [
    "pipe = make_pipeline(\n",
    "    preprocessor,\n",
    "    SVR())\n",
    "pipe.fit(trainX, short_y_train)\n",
    "print(pipe.predict(testX))\n",
    "print(short_y_test.array)"
   ]
  },
  {
   "cell_type": "markdown",
   "id": "8bbc9112",
   "metadata": {},
   "source": [
    "Create predictions"
   ]
  },
  {
   "cell_type": "markdown",
   "id": "2ad049a9",
   "metadata": {},
   "source": [
    "Add predictions to database"
   ]
  },
  {
   "cell_type": "code",
   "execution_count": 63,
   "id": "23249903",
   "metadata": {},
   "outputs": [],
   "source": [
    "completeDF.sort_values('date', ascending=False)\n",
    "companyCount = completeDF['name'].nunique()\n",
    "\n",
    "predictionDict = {}\n",
    "rowIndex = 1\n",
    "while len(predictionDict) < companyCount:\n",
    "    row = completeDF.iloc[rowIndex].to_frame().T\n",
    "    if row['name'].iloc[0] not in predictionDict:\n",
    "        predictions = [shortModel.predict(row)[0], mediumModel.predict(row)[0], longModel.predict(row)[0]]\n",
    "        predictionDict[row['name'].iloc[0]] = predictions\n",
    "    \n",
    "    rowIndex += 1\n",
    "\n"
   ]
  },
  {
   "cell_type": "code",
   "execution_count": 64,
   "id": "9c2a1130",
   "metadata": {},
   "outputs": [
    {
     "name": "stdout",
     "output_type": "stream",
     "text": [
      "Google [1127.419883466174, 1092.9122880205753, 1076.0840625000012]\n",
      "Apple [159.10002073992877, 168.3079497849169, 170.81984374999976]\n",
      "Microsoft [64.35503683904122, 64.1888529450504, 65.01851562499998]\n",
      "AMD [23.668966053618757, 28.000097635220087, 29.075784105629253]\n",
      "Intel [41.67113777256047, 51.01830500602344, 62.946032122230605]\n"
     ]
    }
   ],
   "source": [
    "for key, value in predictionDict.items():\n",
    "    print(key, value)\n",
    "    sql_functions.add_prediction_short(key, value[0])\n",
    "    sql_functions.add_prediction_medium(key, value[1])\n",
    "    sql_functions.add_prediction_long(key, value[2])\n",
    "    "
   ]
  },
  {
   "cell_type": "code",
   "execution_count": null,
   "id": "e99285bd",
   "metadata": {},
   "outputs": [],
   "source": []
  },
  {
   "cell_type": "code",
   "execution_count": null,
   "id": "50b857eb",
   "metadata": {},
   "outputs": [],
   "source": []
  },
  {
   "cell_type": "code",
   "execution_count": null,
   "id": "3d042e30",
   "metadata": {},
   "outputs": [],
   "source": []
  },
  {
   "cell_type": "code",
   "execution_count": null,
   "id": "2b1716d6",
   "metadata": {},
   "outputs": [],
   "source": []
  },
  {
   "cell_type": "code",
   "execution_count": null,
   "id": "f6079fbf",
   "metadata": {},
   "outputs": [],
   "source": []
  }
 ],
 "metadata": {
  "kernelspec": {
   "display_name": "Python 3 (ipykernel)",
   "language": "python",
   "name": "python3"
  },
  "language_info": {
   "codemirror_mode": {
    "name": "ipython",
    "version": 3
   },
   "file_extension": ".py",
   "mimetype": "text/x-python",
   "name": "python",
   "nbconvert_exporter": "python",
   "pygments_lexer": "ipython3",
   "version": "3.9.12"
  }
 },
 "nbformat": 4,
 "nbformat_minor": 5
}
